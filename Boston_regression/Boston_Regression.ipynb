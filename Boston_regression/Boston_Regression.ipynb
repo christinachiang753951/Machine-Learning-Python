{
 "cells": [
  {
   "cell_type": "markdown",
   "metadata": {},
   "source": [
    "## Boston Dataset - sklearn\n",
    "The sklearn Boston dataset is used wisely in regression and is famous dataset from the 1970’s. There are 506 instances and 14 attributes"
   ]
  },
  {
   "cell_type": "markdown",
   "metadata": {},
   "source": [
    "https://scikit-learn.org/stable/modules/generated/sklearn.datasets.load_boston.html"
   ]
  },
  {
   "cell_type": "markdown",
   "metadata": {},
   "source": [
    "![](house.png)\n",
    "\n",
    "source:https://towardsdatascience.com/machine-learning-project-predicting-boston-house-prices-with-regression-b4e47493633d "
   ]
  },
  {
   "cell_type": "code",
   "execution_count": 109,
   "metadata": {},
   "outputs": [],
   "source": [
    "# print all the outputs in a cell\n",
    "from IPython.core.interactiveshell import InteractiveShell\n",
    "InteractiveShell.ast_node_interactivity = \"all\""
   ]
  },
  {
   "cell_type": "code",
   "execution_count": 158,
   "metadata": {},
   "outputs": [],
   "source": [
    "import pandas as pd\n",
    "import matplotlib.pyplot as plt \n",
    "import seaborn as sns \n",
    "%matplotlib inline"
   ]
  },
  {
   "cell_type": "markdown",
   "metadata": {},
   "source": [
    "###  Loading the Boston dataset from Scikit-learn"
   ]
  },
  {
   "cell_type": "code",
   "execution_count": 111,
   "metadata": {},
   "outputs": [],
   "source": [
    "#  import the Boston dataset and store it in a variable called boston\n",
    "from sklearn.datasets import load_boston \n",
    "boston = load_boston()"
   ]
  },
  {
   "cell_type": "markdown",
   "metadata": {},
   "source": [
    "# explore the data"
   ]
  },
  {
   "cell_type": "code",
   "execution_count": 112,
   "metadata": {
    "scrolled": true
   },
   "outputs": [
    {
     "data": {
      "text/plain": [
       "sklearn.utils.Bunch"
      ]
     },
     "execution_count": 112,
     "metadata": {},
     "output_type": "execute_result"
    }
   ],
   "source": [
    "type(boston)"
   ]
  },
  {
   "cell_type": "code",
   "execution_count": 113,
   "metadata": {},
   "outputs": [
    {
     "data": {
      "text/plain": [
       "{'DESCR': \"Boston House Prices dataset\\n===========================\\n\\nNotes\\n------\\nData Set Characteristics:  \\n\\n    :Number of Instances: 506 \\n\\n    :Number of Attributes: 13 numeric/categorical predictive\\n    \\n    :Median Value (attribute 14) is usually the target\\n\\n    :Attribute Information (in order):\\n        - CRIM     per capita crime rate by town\\n        - ZN       proportion of residential land zoned for lots over 25,000 sq.ft.\\n        - INDUS    proportion of non-retail business acres per town\\n        - CHAS     Charles River dummy variable (= 1 if tract bounds river; 0 otherwise)\\n        - NOX      nitric oxides concentration (parts per 10 million)\\n        - RM       average number of rooms per dwelling\\n        - AGE      proportion of owner-occupied units built prior to 1940\\n        - DIS      weighted distances to five Boston employment centres\\n        - RAD      index of accessibility to radial highways\\n        - TAX      full-value property-tax rate per $10,000\\n        - PTRATIO  pupil-teacher ratio by town\\n        - B        1000(Bk - 0.63)^2 where Bk is the proportion of blacks by town\\n        - LSTAT    % lower status of the population\\n        - MEDV     Median value of owner-occupied homes in $1000's\\n\\n    :Missing Attribute Values: None\\n\\n    :Creator: Harrison, D. and Rubinfeld, D.L.\\n\\nThis is a copy of UCI ML housing dataset.\\nhttp://archive.ics.uci.edu/ml/datasets/Housing\\n\\n\\nThis dataset was taken from the StatLib library which is maintained at Carnegie Mellon University.\\n\\nThe Boston house-price data of Harrison, D. and Rubinfeld, D.L. 'Hedonic\\nprices and the demand for clean air', J. Environ. Economics & Management,\\nvol.5, 81-102, 1978.   Used in Belsley, Kuh & Welsch, 'Regression diagnostics\\n...', Wiley, 1980.   N.B. Various transformations are used in the table on\\npages 244-261 of the latter.\\n\\nThe Boston house-price data has been used in many machine learning papers that address regression\\nproblems.   \\n     \\n**References**\\n\\n   - Belsley, Kuh & Welsch, 'Regression diagnostics: Identifying Influential Data and Sources of Collinearity', Wiley, 1980. 244-261.\\n   - Quinlan,R. (1993). Combining Instance-Based and Model-Based Learning. In Proceedings on the Tenth International Conference of Machine Learning, 236-243, University of Massachusetts, Amherst. Morgan Kaufmann.\\n   - many more! (see http://archive.ics.uci.edu/ml/datasets/Housing)\\n\",\n",
       " 'data': array([[6.3200e-03, 1.8000e+01, 2.3100e+00, ..., 1.5300e+01, 3.9690e+02,\n",
       "         4.9800e+00],\n",
       "        [2.7310e-02, 0.0000e+00, 7.0700e+00, ..., 1.7800e+01, 3.9690e+02,\n",
       "         9.1400e+00],\n",
       "        [2.7290e-02, 0.0000e+00, 7.0700e+00, ..., 1.7800e+01, 3.9283e+02,\n",
       "         4.0300e+00],\n",
       "        ...,\n",
       "        [6.0760e-02, 0.0000e+00, 1.1930e+01, ..., 2.1000e+01, 3.9690e+02,\n",
       "         5.6400e+00],\n",
       "        [1.0959e-01, 0.0000e+00, 1.1930e+01, ..., 2.1000e+01, 3.9345e+02,\n",
       "         6.4800e+00],\n",
       "        [4.7410e-02, 0.0000e+00, 1.1930e+01, ..., 2.1000e+01, 3.9690e+02,\n",
       "         7.8800e+00]]),\n",
       " 'feature_names': array(['CRIM', 'ZN', 'INDUS', 'CHAS', 'NOX', 'RM', 'AGE', 'DIS', 'RAD',\n",
       "        'TAX', 'PTRATIO', 'B', 'LSTAT'], dtype='<U7'),\n",
       " 'target': array([24. , 21.6, 34.7, 33.4, 36.2, 28.7, 22.9, 27.1, 16.5, 18.9, 15. ,\n",
       "        18.9, 21.7, 20.4, 18.2, 19.9, 23.1, 17.5, 20.2, 18.2, 13.6, 19.6,\n",
       "        15.2, 14.5, 15.6, 13.9, 16.6, 14.8, 18.4, 21. , 12.7, 14.5, 13.2,\n",
       "        13.1, 13.5, 18.9, 20. , 21. , 24.7, 30.8, 34.9, 26.6, 25.3, 24.7,\n",
       "        21.2, 19.3, 20. , 16.6, 14.4, 19.4, 19.7, 20.5, 25. , 23.4, 18.9,\n",
       "        35.4, 24.7, 31.6, 23.3, 19.6, 18.7, 16. , 22.2, 25. , 33. , 23.5,\n",
       "        19.4, 22. , 17.4, 20.9, 24.2, 21.7, 22.8, 23.4, 24.1, 21.4, 20. ,\n",
       "        20.8, 21.2, 20.3, 28. , 23.9, 24.8, 22.9, 23.9, 26.6, 22.5, 22.2,\n",
       "        23.6, 28.7, 22.6, 22. , 22.9, 25. , 20.6, 28.4, 21.4, 38.7, 43.8,\n",
       "        33.2, 27.5, 26.5, 18.6, 19.3, 20.1, 19.5, 19.5, 20.4, 19.8, 19.4,\n",
       "        21.7, 22.8, 18.8, 18.7, 18.5, 18.3, 21.2, 19.2, 20.4, 19.3, 22. ,\n",
       "        20.3, 20.5, 17.3, 18.8, 21.4, 15.7, 16.2, 18. , 14.3, 19.2, 19.6,\n",
       "        23. , 18.4, 15.6, 18.1, 17.4, 17.1, 13.3, 17.8, 14. , 14.4, 13.4,\n",
       "        15.6, 11.8, 13.8, 15.6, 14.6, 17.8, 15.4, 21.5, 19.6, 15.3, 19.4,\n",
       "        17. , 15.6, 13.1, 41.3, 24.3, 23.3, 27. , 50. , 50. , 50. , 22.7,\n",
       "        25. , 50. , 23.8, 23.8, 22.3, 17.4, 19.1, 23.1, 23.6, 22.6, 29.4,\n",
       "        23.2, 24.6, 29.9, 37.2, 39.8, 36.2, 37.9, 32.5, 26.4, 29.6, 50. ,\n",
       "        32. , 29.8, 34.9, 37. , 30.5, 36.4, 31.1, 29.1, 50. , 33.3, 30.3,\n",
       "        34.6, 34.9, 32.9, 24.1, 42.3, 48.5, 50. , 22.6, 24.4, 22.5, 24.4,\n",
       "        20. , 21.7, 19.3, 22.4, 28.1, 23.7, 25. , 23.3, 28.7, 21.5, 23. ,\n",
       "        26.7, 21.7, 27.5, 30.1, 44.8, 50. , 37.6, 31.6, 46.7, 31.5, 24.3,\n",
       "        31.7, 41.7, 48.3, 29. , 24. , 25.1, 31.5, 23.7, 23.3, 22. , 20.1,\n",
       "        22.2, 23.7, 17.6, 18.5, 24.3, 20.5, 24.5, 26.2, 24.4, 24.8, 29.6,\n",
       "        42.8, 21.9, 20.9, 44. , 50. , 36. , 30.1, 33.8, 43.1, 48.8, 31. ,\n",
       "        36.5, 22.8, 30.7, 50. , 43.5, 20.7, 21.1, 25.2, 24.4, 35.2, 32.4,\n",
       "        32. , 33.2, 33.1, 29.1, 35.1, 45.4, 35.4, 46. , 50. , 32.2, 22. ,\n",
       "        20.1, 23.2, 22.3, 24.8, 28.5, 37.3, 27.9, 23.9, 21.7, 28.6, 27.1,\n",
       "        20.3, 22.5, 29. , 24.8, 22. , 26.4, 33.1, 36.1, 28.4, 33.4, 28.2,\n",
       "        22.8, 20.3, 16.1, 22.1, 19.4, 21.6, 23.8, 16.2, 17.8, 19.8, 23.1,\n",
       "        21. , 23.8, 23.1, 20.4, 18.5, 25. , 24.6, 23. , 22.2, 19.3, 22.6,\n",
       "        19.8, 17.1, 19.4, 22.2, 20.7, 21.1, 19.5, 18.5, 20.6, 19. , 18.7,\n",
       "        32.7, 16.5, 23.9, 31.2, 17.5, 17.2, 23.1, 24.5, 26.6, 22.9, 24.1,\n",
       "        18.6, 30.1, 18.2, 20.6, 17.8, 21.7, 22.7, 22.6, 25. , 19.9, 20.8,\n",
       "        16.8, 21.9, 27.5, 21.9, 23.1, 50. , 50. , 50. , 50. , 50. , 13.8,\n",
       "        13.8, 15. , 13.9, 13.3, 13.1, 10.2, 10.4, 10.9, 11.3, 12.3,  8.8,\n",
       "         7.2, 10.5,  7.4, 10.2, 11.5, 15.1, 23.2,  9.7, 13.8, 12.7, 13.1,\n",
       "        12.5,  8.5,  5. ,  6.3,  5.6,  7.2, 12.1,  8.3,  8.5,  5. , 11.9,\n",
       "        27.9, 17.2, 27.5, 15. , 17.2, 17.9, 16.3,  7. ,  7.2,  7.5, 10.4,\n",
       "         8.8,  8.4, 16.7, 14.2, 20.8, 13.4, 11.7,  8.3, 10.2, 10.9, 11. ,\n",
       "         9.5, 14.5, 14.1, 16.1, 14.3, 11.7, 13.4,  9.6,  8.7,  8.4, 12.8,\n",
       "        10.5, 17.1, 18.4, 15.4, 10.8, 11.8, 14.9, 12.6, 14.1, 13. , 13.4,\n",
       "        15.2, 16.1, 17.8, 14.9, 14.1, 12.7, 13.5, 14.9, 20. , 16.4, 17.7,\n",
       "        19.5, 20.2, 21.4, 19.9, 19. , 19.1, 19.1, 20.1, 19.9, 19.6, 23.2,\n",
       "        29.8, 13.8, 13.3, 16.7, 12. , 14.6, 21.4, 23. , 23.7, 25. , 21.8,\n",
       "        20.6, 21.2, 19.1, 20.6, 15.2,  7. ,  8.1, 13.6, 20.1, 21.8, 24.5,\n",
       "        23.1, 19.7, 18.3, 21.2, 17.5, 16.8, 22.4, 20.6, 23.9, 22. , 11.9])}"
      ]
     },
     "execution_count": 113,
     "metadata": {},
     "output_type": "execute_result"
    }
   ],
   "source": [
    "boston # boston is a dictionary-like object"
   ]
  },
  {
   "cell_type": "markdown",
   "metadata": {},
   "source": [
    "### explore the attributes:\n",
    "- 'data': the data to learn\n",
    "- 'feature_names': the meaning of the features\n",
    "- 'target': the regression targets\n",
    "- 'DESCR': the full description of the dataset\n",
    "- 'filename':the physical location of boston csv dataset (added in version 0.20)."
   ]
  },
  {
   "cell_type": "code",
   "execution_count": 114,
   "metadata": {},
   "outputs": [
    {
     "name": "stdout",
     "output_type": "stream",
     "text": [
      "dict_keys(['data', 'target', 'feature_names', 'DESCR'])\n"
     ]
    }
   ],
   "source": [
    "print(boston.keys())"
   ]
  },
  {
   "cell_type": "code",
   "execution_count": 115,
   "metadata": {},
   "outputs": [
    {
     "data": {
      "text/plain": [
       "numpy.ndarray"
      ]
     },
     "execution_count": 115,
     "metadata": {},
     "output_type": "execute_result"
    }
   ],
   "source": [
    "type(boston[\"data\"]) "
   ]
  },
  {
   "cell_type": "code",
   "execution_count": 116,
   "metadata": {},
   "outputs": [
    {
     "data": {
      "text/plain": [
       "(506, 13)"
      ]
     },
     "execution_count": 116,
     "metadata": {},
     "output_type": "execute_result"
    }
   ],
   "source": [
    "boston[\"data\"].shape #  150 observations, 4 columns"
   ]
  },
  {
   "cell_type": "code",
   "execution_count": 117,
   "metadata": {
    "scrolled": false
   },
   "outputs": [
    {
     "name": "stdout",
     "output_type": "stream",
     "text": [
      "['CRIM' 'ZN' 'INDUS' 'CHAS' 'NOX' 'RM' 'AGE' 'DIS' 'RAD' 'TAX' 'PTRATIO'\n",
      " 'B' 'LSTAT']\n"
     ]
    }
   ],
   "source": [
    "# print the names of the features\n",
    "print(boston[\"feature_names\"])"
   ]
  },
  {
   "cell_type": "code",
   "execution_count": 118,
   "metadata": {},
   "outputs": [
    {
     "name": "stdout",
     "output_type": "stream",
     "text": [
      "[24.  21.6 34.7 33.4 36.2 28.7 22.9 27.1 16.5 18.9 15.  18.9 21.7 20.4\n",
      " 18.2 19.9 23.1 17.5 20.2 18.2 13.6 19.6 15.2 14.5 15.6 13.9 16.6 14.8\n",
      " 18.4 21.  12.7 14.5 13.2 13.1 13.5 18.9 20.  21.  24.7 30.8 34.9 26.6\n",
      " 25.3 24.7 21.2 19.3 20.  16.6 14.4 19.4 19.7 20.5 25.  23.4 18.9 35.4\n",
      " 24.7 31.6 23.3 19.6 18.7 16.  22.2 25.  33.  23.5 19.4 22.  17.4 20.9\n",
      " 24.2 21.7 22.8 23.4 24.1 21.4 20.  20.8 21.2 20.3 28.  23.9 24.8 22.9\n",
      " 23.9 26.6 22.5 22.2 23.6 28.7 22.6 22.  22.9 25.  20.6 28.4 21.4 38.7\n",
      " 43.8 33.2 27.5 26.5 18.6 19.3 20.1 19.5 19.5 20.4 19.8 19.4 21.7 22.8\n",
      " 18.8 18.7 18.5 18.3 21.2 19.2 20.4 19.3 22.  20.3 20.5 17.3 18.8 21.4\n",
      " 15.7 16.2 18.  14.3 19.2 19.6 23.  18.4 15.6 18.1 17.4 17.1 13.3 17.8\n",
      " 14.  14.4 13.4 15.6 11.8 13.8 15.6 14.6 17.8 15.4 21.5 19.6 15.3 19.4\n",
      " 17.  15.6 13.1 41.3 24.3 23.3 27.  50.  50.  50.  22.7 25.  50.  23.8\n",
      " 23.8 22.3 17.4 19.1 23.1 23.6 22.6 29.4 23.2 24.6 29.9 37.2 39.8 36.2\n",
      " 37.9 32.5 26.4 29.6 50.  32.  29.8 34.9 37.  30.5 36.4 31.1 29.1 50.\n",
      " 33.3 30.3 34.6 34.9 32.9 24.1 42.3 48.5 50.  22.6 24.4 22.5 24.4 20.\n",
      " 21.7 19.3 22.4 28.1 23.7 25.  23.3 28.7 21.5 23.  26.7 21.7 27.5 30.1\n",
      " 44.8 50.  37.6 31.6 46.7 31.5 24.3 31.7 41.7 48.3 29.  24.  25.1 31.5\n",
      " 23.7 23.3 22.  20.1 22.2 23.7 17.6 18.5 24.3 20.5 24.5 26.2 24.4 24.8\n",
      " 29.6 42.8 21.9 20.9 44.  50.  36.  30.1 33.8 43.1 48.8 31.  36.5 22.8\n",
      " 30.7 50.  43.5 20.7 21.1 25.2 24.4 35.2 32.4 32.  33.2 33.1 29.1 35.1\n",
      " 45.4 35.4 46.  50.  32.2 22.  20.1 23.2 22.3 24.8 28.5 37.3 27.9 23.9\n",
      " 21.7 28.6 27.1 20.3 22.5 29.  24.8 22.  26.4 33.1 36.1 28.4 33.4 28.2\n",
      " 22.8 20.3 16.1 22.1 19.4 21.6 23.8 16.2 17.8 19.8 23.1 21.  23.8 23.1\n",
      " 20.4 18.5 25.  24.6 23.  22.2 19.3 22.6 19.8 17.1 19.4 22.2 20.7 21.1\n",
      " 19.5 18.5 20.6 19.  18.7 32.7 16.5 23.9 31.2 17.5 17.2 23.1 24.5 26.6\n",
      " 22.9 24.1 18.6 30.1 18.2 20.6 17.8 21.7 22.7 22.6 25.  19.9 20.8 16.8\n",
      " 21.9 27.5 21.9 23.1 50.  50.  50.  50.  50.  13.8 13.8 15.  13.9 13.3\n",
      " 13.1 10.2 10.4 10.9 11.3 12.3  8.8  7.2 10.5  7.4 10.2 11.5 15.1 23.2\n",
      "  9.7 13.8 12.7 13.1 12.5  8.5  5.   6.3  5.6  7.2 12.1  8.3  8.5  5.\n",
      " 11.9 27.9 17.2 27.5 15.  17.2 17.9 16.3  7.   7.2  7.5 10.4  8.8  8.4\n",
      " 16.7 14.2 20.8 13.4 11.7  8.3 10.2 10.9 11.   9.5 14.5 14.1 16.1 14.3\n",
      " 11.7 13.4  9.6  8.7  8.4 12.8 10.5 17.1 18.4 15.4 10.8 11.8 14.9 12.6\n",
      " 14.1 13.  13.4 15.2 16.1 17.8 14.9 14.1 12.7 13.5 14.9 20.  16.4 17.7\n",
      " 19.5 20.2 21.4 19.9 19.  19.1 19.1 20.1 19.9 19.6 23.2 29.8 13.8 13.3\n",
      " 16.7 12.  14.6 21.4 23.  23.7 25.  21.8 20.6 21.2 19.1 20.6 15.2  7.\n",
      "  8.1 13.6 20.1 21.8 24.5 23.1 19.7 18.3 21.2 17.5 16.8 22.4 20.6 23.9\n",
      " 22.  11.9]\n"
     ]
    }
   ],
   "source": [
    "print (boston.target)"
   ]
  },
  {
   "cell_type": "code",
   "execution_count": 119,
   "metadata": {},
   "outputs": [
    {
     "name": "stdout",
     "output_type": "stream",
     "text": [
      "Boston House Prices dataset\n",
      "===========================\n",
      "\n",
      "Notes\n",
      "------\n",
      "Data Set Characteristics:  \n",
      "\n",
      "    :Number of Instances: 506 \n",
      "\n",
      "    :Number of Attributes: 13 numeric/categorical predictive\n",
      "    \n",
      "    :Median Value (attribute 14) is usually the target\n",
      "\n",
      "    :Attribute Information (in order):\n",
      "        - CRIM     per capita crime rate by town\n",
      "        - ZN       proportion of residential land zoned for lots over 25,000 sq.ft.\n",
      "        - INDUS    proportion of non-retail business acres per town\n",
      "        - CHAS     Charles River dummy variable (= 1 if tract bounds river; 0 otherwise)\n",
      "        - NOX      nitric oxides concentration (parts per 10 million)\n",
      "        - RM       average number of rooms per dwelling\n",
      "        - AGE      proportion of owner-occupied units built prior to 1940\n",
      "        - DIS      weighted distances to five Boston employment centres\n",
      "        - RAD      index of accessibility to radial highways\n",
      "        - TAX      full-value property-tax rate per $10,000\n",
      "        - PTRATIO  pupil-teacher ratio by town\n",
      "        - B        1000(Bk - 0.63)^2 where Bk is the proportion of blacks by town\n",
      "        - LSTAT    % lower status of the population\n",
      "        - MEDV     Median value of owner-occupied homes in $1000's\n",
      "\n",
      "    :Missing Attribute Values: None\n",
      "\n",
      "    :Creator: Harrison, D. and Rubinfeld, D.L.\n",
      "\n",
      "This is a copy of UCI ML housing dataset.\n",
      "http://archive.ics.uci.edu/ml/datasets/Housing\n",
      "\n",
      "\n",
      "This dataset was taken from the StatLib library which is maintained at Carnegie Mellon University.\n",
      "\n",
      "The Boston house-price data of Harrison, D. and Rubinfeld, D.L. 'Hedonic\n",
      "prices and the demand for clean air', J. Environ. Economics & Management,\n",
      "vol.5, 81-102, 1978.   Used in Belsley, Kuh & Welsch, 'Regression diagnostics\n",
      "...', Wiley, 1980.   N.B. Various transformations are used in the table on\n",
      "pages 244-261 of the latter.\n",
      "\n",
      "The Boston house-price data has been used in many machine learning papers that address regression\n",
      "problems.   \n",
      "     \n",
      "**References**\n",
      "\n",
      "   - Belsley, Kuh & Welsch, 'Regression diagnostics: Identifying Influential Data and Sources of Collinearity', Wiley, 1980. 244-261.\n",
      "   - Quinlan,R. (1993). Combining Instance-Based and Model-Based Learning. In Proceedings on the Tenth International Conference of Machine Learning, 236-243, University of Massachusetts, Amherst. Morgan Kaufmann.\n",
      "   - many more! (see http://archive.ics.uci.edu/ml/datasets/Housing)\n",
      "\n"
     ]
    }
   ],
   "source": [
    "# The DESCR method will provide the dataset characteristics for the Boston dataset.\n",
    "print(boston[\"DESCR\"])"
   ]
  },
  {
   "cell_type": "markdown",
   "metadata": {},
   "source": [
    "### Pandas Dataframe Conversion"
   ]
  },
  {
   "cell_type": "code",
   "execution_count": 120,
   "metadata": {},
   "outputs": [
    {
     "data": {
      "text/html": [
       "<div>\n",
       "<style scoped>\n",
       "    .dataframe tbody tr th:only-of-type {\n",
       "        vertical-align: middle;\n",
       "    }\n",
       "\n",
       "    .dataframe tbody tr th {\n",
       "        vertical-align: top;\n",
       "    }\n",
       "\n",
       "    .dataframe thead th {\n",
       "        text-align: right;\n",
       "    }\n",
       "</style>\n",
       "<table border=\"1\" class=\"dataframe\">\n",
       "  <thead>\n",
       "    <tr style=\"text-align: right;\">\n",
       "      <th></th>\n",
       "      <th>CRIM</th>\n",
       "      <th>ZN</th>\n",
       "      <th>INDUS</th>\n",
       "      <th>CHAS</th>\n",
       "      <th>NOX</th>\n",
       "      <th>RM</th>\n",
       "      <th>AGE</th>\n",
       "      <th>DIS</th>\n",
       "      <th>RAD</th>\n",
       "      <th>TAX</th>\n",
       "      <th>PTRATIO</th>\n",
       "      <th>B</th>\n",
       "      <th>LSTAT</th>\n",
       "    </tr>\n",
       "  </thead>\n",
       "  <tbody>\n",
       "    <tr>\n",
       "      <th>0</th>\n",
       "      <td>0.00632</td>\n",
       "      <td>18.0</td>\n",
       "      <td>2.31</td>\n",
       "      <td>0.0</td>\n",
       "      <td>0.538</td>\n",
       "      <td>6.575</td>\n",
       "      <td>65.2</td>\n",
       "      <td>4.0900</td>\n",
       "      <td>1.0</td>\n",
       "      <td>296.0</td>\n",
       "      <td>15.3</td>\n",
       "      <td>396.90</td>\n",
       "      <td>4.98</td>\n",
       "    </tr>\n",
       "    <tr>\n",
       "      <th>1</th>\n",
       "      <td>0.02731</td>\n",
       "      <td>0.0</td>\n",
       "      <td>7.07</td>\n",
       "      <td>0.0</td>\n",
       "      <td>0.469</td>\n",
       "      <td>6.421</td>\n",
       "      <td>78.9</td>\n",
       "      <td>4.9671</td>\n",
       "      <td>2.0</td>\n",
       "      <td>242.0</td>\n",
       "      <td>17.8</td>\n",
       "      <td>396.90</td>\n",
       "      <td>9.14</td>\n",
       "    </tr>\n",
       "    <tr>\n",
       "      <th>2</th>\n",
       "      <td>0.02729</td>\n",
       "      <td>0.0</td>\n",
       "      <td>7.07</td>\n",
       "      <td>0.0</td>\n",
       "      <td>0.469</td>\n",
       "      <td>7.185</td>\n",
       "      <td>61.1</td>\n",
       "      <td>4.9671</td>\n",
       "      <td>2.0</td>\n",
       "      <td>242.0</td>\n",
       "      <td>17.8</td>\n",
       "      <td>392.83</td>\n",
       "      <td>4.03</td>\n",
       "    </tr>\n",
       "    <tr>\n",
       "      <th>3</th>\n",
       "      <td>0.03237</td>\n",
       "      <td>0.0</td>\n",
       "      <td>2.18</td>\n",
       "      <td>0.0</td>\n",
       "      <td>0.458</td>\n",
       "      <td>6.998</td>\n",
       "      <td>45.8</td>\n",
       "      <td>6.0622</td>\n",
       "      <td>3.0</td>\n",
       "      <td>222.0</td>\n",
       "      <td>18.7</td>\n",
       "      <td>394.63</td>\n",
       "      <td>2.94</td>\n",
       "    </tr>\n",
       "    <tr>\n",
       "      <th>4</th>\n",
       "      <td>0.06905</td>\n",
       "      <td>0.0</td>\n",
       "      <td>2.18</td>\n",
       "      <td>0.0</td>\n",
       "      <td>0.458</td>\n",
       "      <td>7.147</td>\n",
       "      <td>54.2</td>\n",
       "      <td>6.0622</td>\n",
       "      <td>3.0</td>\n",
       "      <td>222.0</td>\n",
       "      <td>18.7</td>\n",
       "      <td>396.90</td>\n",
       "      <td>5.33</td>\n",
       "    </tr>\n",
       "  </tbody>\n",
       "</table>\n",
       "</div>"
      ],
      "text/plain": [
       "      CRIM    ZN  INDUS  CHAS    NOX     RM   AGE     DIS  RAD    TAX  \\\n",
       "0  0.00632  18.0   2.31   0.0  0.538  6.575  65.2  4.0900  1.0  296.0   \n",
       "1  0.02731   0.0   7.07   0.0  0.469  6.421  78.9  4.9671  2.0  242.0   \n",
       "2  0.02729   0.0   7.07   0.0  0.469  7.185  61.1  4.9671  2.0  242.0   \n",
       "3  0.03237   0.0   2.18   0.0  0.458  6.998  45.8  6.0622  3.0  222.0   \n",
       "4  0.06905   0.0   2.18   0.0  0.458  7.147  54.2  6.0622  3.0  222.0   \n",
       "\n",
       "   PTRATIO       B  LSTAT  \n",
       "0     15.3  396.90   4.98  \n",
       "1     17.8  396.90   9.14  \n",
       "2     17.8  392.83   4.03  \n",
       "3     18.7  394.63   2.94  \n",
       "4     18.7  396.90   5.33  "
      ]
     },
     "execution_count": 120,
     "metadata": {},
     "output_type": "execute_result"
    }
   ],
   "source": [
    "df = pd.DataFrame(data = boston[\"data\"], columns=boston[\"feature_names\"])\n",
    "df.head()"
   ]
  },
  {
   "cell_type": "code",
   "execution_count": 121,
   "metadata": {
    "scrolled": true
   },
   "outputs": [
    {
     "data": {
      "text/html": [
       "<div>\n",
       "<style scoped>\n",
       "    .dataframe tbody tr th:only-of-type {\n",
       "        vertical-align: middle;\n",
       "    }\n",
       "\n",
       "    .dataframe tbody tr th {\n",
       "        vertical-align: top;\n",
       "    }\n",
       "\n",
       "    .dataframe thead th {\n",
       "        text-align: right;\n",
       "    }\n",
       "</style>\n",
       "<table border=\"1\" class=\"dataframe\">\n",
       "  <thead>\n",
       "    <tr style=\"text-align: right;\">\n",
       "      <th></th>\n",
       "      <th>CRIM</th>\n",
       "      <th>ZN</th>\n",
       "      <th>INDUS</th>\n",
       "      <th>CHAS</th>\n",
       "      <th>NOX</th>\n",
       "      <th>RM</th>\n",
       "      <th>AGE</th>\n",
       "      <th>DIS</th>\n",
       "      <th>RAD</th>\n",
       "      <th>TAX</th>\n",
       "      <th>PTRATIO</th>\n",
       "      <th>B</th>\n",
       "      <th>LSTAT</th>\n",
       "      <th>target</th>\n",
       "    </tr>\n",
       "  </thead>\n",
       "  <tbody>\n",
       "    <tr>\n",
       "      <th>0</th>\n",
       "      <td>0.00632</td>\n",
       "      <td>18.0</td>\n",
       "      <td>2.31</td>\n",
       "      <td>0.0</td>\n",
       "      <td>0.538</td>\n",
       "      <td>6.575</td>\n",
       "      <td>65.2</td>\n",
       "      <td>4.0900</td>\n",
       "      <td>1.0</td>\n",
       "      <td>296.0</td>\n",
       "      <td>15.3</td>\n",
       "      <td>396.90</td>\n",
       "      <td>4.98</td>\n",
       "      <td>24.0</td>\n",
       "    </tr>\n",
       "    <tr>\n",
       "      <th>1</th>\n",
       "      <td>0.02731</td>\n",
       "      <td>0.0</td>\n",
       "      <td>7.07</td>\n",
       "      <td>0.0</td>\n",
       "      <td>0.469</td>\n",
       "      <td>6.421</td>\n",
       "      <td>78.9</td>\n",
       "      <td>4.9671</td>\n",
       "      <td>2.0</td>\n",
       "      <td>242.0</td>\n",
       "      <td>17.8</td>\n",
       "      <td>396.90</td>\n",
       "      <td>9.14</td>\n",
       "      <td>21.6</td>\n",
       "    </tr>\n",
       "    <tr>\n",
       "      <th>2</th>\n",
       "      <td>0.02729</td>\n",
       "      <td>0.0</td>\n",
       "      <td>7.07</td>\n",
       "      <td>0.0</td>\n",
       "      <td>0.469</td>\n",
       "      <td>7.185</td>\n",
       "      <td>61.1</td>\n",
       "      <td>4.9671</td>\n",
       "      <td>2.0</td>\n",
       "      <td>242.0</td>\n",
       "      <td>17.8</td>\n",
       "      <td>392.83</td>\n",
       "      <td>4.03</td>\n",
       "      <td>34.7</td>\n",
       "    </tr>\n",
       "    <tr>\n",
       "      <th>3</th>\n",
       "      <td>0.03237</td>\n",
       "      <td>0.0</td>\n",
       "      <td>2.18</td>\n",
       "      <td>0.0</td>\n",
       "      <td>0.458</td>\n",
       "      <td>6.998</td>\n",
       "      <td>45.8</td>\n",
       "      <td>6.0622</td>\n",
       "      <td>3.0</td>\n",
       "      <td>222.0</td>\n",
       "      <td>18.7</td>\n",
       "      <td>394.63</td>\n",
       "      <td>2.94</td>\n",
       "      <td>33.4</td>\n",
       "    </tr>\n",
       "    <tr>\n",
       "      <th>4</th>\n",
       "      <td>0.06905</td>\n",
       "      <td>0.0</td>\n",
       "      <td>2.18</td>\n",
       "      <td>0.0</td>\n",
       "      <td>0.458</td>\n",
       "      <td>7.147</td>\n",
       "      <td>54.2</td>\n",
       "      <td>6.0622</td>\n",
       "      <td>3.0</td>\n",
       "      <td>222.0</td>\n",
       "      <td>18.7</td>\n",
       "      <td>396.90</td>\n",
       "      <td>5.33</td>\n",
       "      <td>36.2</td>\n",
       "    </tr>\n",
       "  </tbody>\n",
       "</table>\n",
       "</div>"
      ],
      "text/plain": [
       "      CRIM    ZN  INDUS  CHAS    NOX     RM   AGE     DIS  RAD    TAX  \\\n",
       "0  0.00632  18.0   2.31   0.0  0.538  6.575  65.2  4.0900  1.0  296.0   \n",
       "1  0.02731   0.0   7.07   0.0  0.469  6.421  78.9  4.9671  2.0  242.0   \n",
       "2  0.02729   0.0   7.07   0.0  0.469  7.185  61.1  4.9671  2.0  242.0   \n",
       "3  0.03237   0.0   2.18   0.0  0.458  6.998  45.8  6.0622  3.0  222.0   \n",
       "4  0.06905   0.0   2.18   0.0  0.458  7.147  54.2  6.0622  3.0  222.0   \n",
       "\n",
       "   PTRATIO       B  LSTAT  target  \n",
       "0     15.3  396.90   4.98    24.0  \n",
       "1     17.8  396.90   9.14    21.6  \n",
       "2     17.8  392.83   4.03    34.7  \n",
       "3     18.7  394.63   2.94    33.4  \n",
       "4     18.7  396.90   5.33    36.2  "
      ]
     },
     "execution_count": 121,
     "metadata": {},
     "output_type": "execute_result"
    }
   ],
   "source": [
    "df[\"target\"] = boston[\"target\"] # add the feature \"target\" as a new column\n",
    "df.head()"
   ]
  },
  {
   "cell_type": "markdown",
   "metadata": {},
   "source": [
    "### Export the dataframe to csv  "
   ]
  },
  {
   "cell_type": "code",
   "execution_count": 122,
   "metadata": {},
   "outputs": [],
   "source": [
    "# df.to_csv('boston.csv')"
   ]
  },
  {
   "cell_type": "markdown",
   "metadata": {},
   "source": [
    "### Explore the Correlation of Features\n",
    "\n",
    "There are different color provided: \n",
    "https://matplotlib.org/2.0.2/examples/color/colormaps_reference.html"
   ]
  },
  {
   "cell_type": "code",
   "execution_count": 123,
   "metadata": {
    "scrolled": false
   },
   "outputs": [
    {
     "data": {
      "text/plain": [
       "<matplotlib.figure.Figure at 0x1a1b3e9978>"
      ]
     },
     "execution_count": 123,
     "metadata": {},
     "output_type": "execute_result"
    },
    {
     "data": {
      "text/plain": [
       "Text(0.5,1.05,'Correlation of Features')"
      ]
     },
     "execution_count": 123,
     "metadata": {},
     "output_type": "execute_result"
    },
    {
     "data": {
      "text/plain": [
       "<matplotlib.axes._subplots.AxesSubplot at 0x1a1b3e9080>"
      ]
     },
     "execution_count": 123,
     "metadata": {},
     "output_type": "execute_result"
    },
    {
     "data": {
      "image/png": "[encoded data removed]",
      "text/plain": [
       "<matplotlib.figure.Figure at 0x1a1b3e9978>"
      ]
     },
     "metadata": {},
     "output_type": "display_data"
    }
   ],
   "source": [
    "plt.figure(figsize=(14,10))\n",
    "plt.title('Correlation of Features', y=1.05, size=15)\n",
    "sns.heatmap(df.astype(float).corr(),cmap = \"coolwarm\"\n",
    "            ,linewidths=0.1,square=True, linecolor='white', annot=True)"
   ]
  },
  {
   "cell_type": "markdown",
   "metadata": {},
   "source": [
    "<div class=\"alert alert-block alert-danger\">\n",
    "From above, we can found that there is a high positive correlation between **RM**and **target**, <br> \n",
    "and there is a high negative correlation between **LSTAT**and **target**\n",
    "</div>"
   ]
  },
  {
   "cell_type": "markdown",
   "metadata": {},
   "source": [
    "## scatter plot "
   ]
  },
  {
   "cell_type": "code",
   "execution_count": 137,
   "metadata": {},
   "outputs": [
    {
     "data": {
      "text/plain": [
       "<matplotlib.figure.Figure at 0x10454f780>"
      ]
     },
     "execution_count": 137,
     "metadata": {},
     "output_type": "execute_result"
    },
    {
     "data": {
      "text/plain": [
       "<matplotlib.collections.PathCollection at 0x1a1a776c88>"
      ]
     },
     "execution_count": 137,
     "metadata": {},
     "output_type": "execute_result"
    },
    {
     "data": {
      "text/plain": [
       "Text(0,0.5,'Price')"
      ]
     },
     "execution_count": 137,
     "metadata": {},
     "output_type": "execute_result"
    },
    {
     "data": {
      "text/plain": [
       "Text(0.5,0,'RM')"
      ]
     },
     "execution_count": 137,
     "metadata": {},
     "output_type": "execute_result"
    },
    {
     "data": {
      "image/png": "[encoded data removed]",
      "text/plain": [
       "<matplotlib.figure.Figure at 0x10454f780>"
      ]
     },
     "metadata": {},
     "output_type": "display_data"
    }
   ],
   "source": [
    "plt.figure(figsize=(5, 4))\n",
    "plt.scatter(df['RM'], boston.target)\n",
    "plt.ylabel('Price', size=12)\n",
    "plt.xlabel('RM', size=12)"
   ]
  },
  {
   "cell_type": "code",
   "execution_count": 138,
   "metadata": {},
   "outputs": [
    {
     "data": {
      "text/plain": [
       "<matplotlib.figure.Figure at 0x1045f4550>"
      ]
     },
     "execution_count": 138,
     "metadata": {},
     "output_type": "execute_result"
    },
    {
     "data": {
      "text/plain": [
       "<matplotlib.collections.PathCollection at 0x1a1ba84208>"
      ]
     },
     "execution_count": 138,
     "metadata": {},
     "output_type": "execute_result"
    },
    {
     "data": {
      "text/plain": [
       "Text(0,0.5,'Price')"
      ]
     },
     "execution_count": 138,
     "metadata": {},
     "output_type": "execute_result"
    },
    {
     "data": {
      "text/plain": [
       "Text(0.5,0,'LSTAT')"
      ]
     },
     "execution_count": 138,
     "metadata": {},
     "output_type": "execute_result"
    },
    {
     "data": {
      "image/png": "[encoded data removed]",
      "text/plain": [
       "<matplotlib.figure.Figure at 0x1045f4550>"
      ]
     },
     "metadata": {},
     "output_type": "display_data"
    }
   ],
   "source": [
    "plt.figure(figsize=(5, 4))\n",
    "plt.scatter(df['LSTAT'], boston.target)\n",
    "plt.ylabel('Price', size=12)\n",
    "plt.xlabel('LSTAT', size=12)"
   ]
  },
  {
   "cell_type": "markdown",
   "metadata": {},
   "source": [
    "### Split the datasets to training & testing "
   ]
  },
  {
   "cell_type": "code",
   "execution_count": 125,
   "metadata": {},
   "outputs": [],
   "source": [
    "from sklearn.model_selection import train_test_split"
   ]
  },
  {
   "cell_type": "code",
   "execution_count": 31,
   "metadata": {},
   "outputs": [
    {
     "data": {
      "text/plain": [
       "[array([[4.87141e+00, 0.00000e+00, 1.81000e+01, ..., 2.02000e+01,\n",
       "         3.96210e+02, 1.86800e+01],\n",
       "        [1.81590e-01, 0.00000e+00, 7.38000e+00, ..., 1.96000e+01,\n",
       "         3.96900e+02, 6.87000e+00],\n",
       "        [2.49800e-01, 0.00000e+00, 2.18900e+01, ..., 2.12000e+01,\n",
       "         3.92040e+02, 2.13200e+01],\n",
       "        ...,\n",
       "        [4.37900e-02, 8.00000e+01, 3.37000e+00, ..., 1.61000e+01,\n",
       "         3.96900e+02, 1.02400e+01],\n",
       "        [3.30600e-02, 0.00000e+00, 5.19000e+00, ..., 2.02000e+01,\n",
       "         3.96140e+02, 8.51000e+00],\n",
       "        [1.09600e-02, 5.50000e+01, 2.25000e+00, ..., 1.53000e+01,\n",
       "         3.94720e+02, 8.23000e+00]]),\n",
       " array([[2.07460e-01, 0.00000e+00, 2.77400e+01, 0.00000e+00, 6.09000e-01,\n",
       "         5.09300e+00, 9.80000e+01, 1.82260e+00, 4.00000e+00, 7.11000e+02,\n",
       "         2.01000e+01, 3.18430e+02, 2.96800e+01],\n",
       "        [3.58400e-02, 8.00000e+01, 3.37000e+00, 0.00000e+00, 3.98000e-01,\n",
       "         6.29000e+00, 1.78000e+01, 6.61150e+00, 4.00000e+00, 3.37000e+02,\n",
       "         1.61000e+01, 3.96900e+02, 4.67000e+00],\n",
       "        [1.13081e+00, 0.00000e+00, 8.14000e+00, 0.00000e+00, 5.38000e-01,\n",
       "         5.71300e+00, 9.41000e+01, 4.23300e+00, 4.00000e+00, 3.07000e+02,\n",
       "         2.10000e+01, 3.60170e+02, 2.26000e+01],\n",
       "        [1.77800e-02, 9.50000e+01, 1.47000e+00, 0.00000e+00, 4.03000e-01,\n",
       "         7.13500e+00, 1.39000e+01, 7.65340e+00, 3.00000e+00, 4.02000e+02,\n",
       "         1.70000e+01, 3.84300e+02, 4.45000e+00],\n",
       "        [1.73310e-01, 0.00000e+00, 9.69000e+00, 0.00000e+00, 5.85000e-01,\n",
       "         5.70700e+00, 5.40000e+01, 2.38170e+00, 6.00000e+00, 3.91000e+02,\n",
       "         1.92000e+01, 3.96900e+02, 1.20100e+01],\n",
       "        [2.39120e-01, 0.00000e+00, 9.69000e+00, 0.00000e+00, 5.85000e-01,\n",
       "         6.01900e+00, 6.53000e+01, 2.40910e+00, 6.00000e+00, 3.91000e+02,\n",
       "         1.92000e+01, 3.96900e+02, 1.29200e+01],\n",
       "        [3.56868e+00, 0.00000e+00, 1.81000e+01, 0.00000e+00, 5.80000e-01,\n",
       "         6.43700e+00, 7.50000e+01, 2.89650e+00, 2.40000e+01, 6.66000e+02,\n",
       "         2.02000e+01, 3.93370e+02, 1.43600e+01],\n",
       "        [2.05500e-02, 8.50000e+01, 7.40000e-01, 0.00000e+00, 4.10000e-01,\n",
       "         6.38300e+00, 3.57000e+01, 9.18760e+00, 2.00000e+00, 3.13000e+02,\n",
       "         1.73000e+01, 3.96900e+02, 5.77000e+00],\n",
       "        [8.24809e+00, 0.00000e+00, 1.81000e+01, 0.00000e+00, 7.13000e-01,\n",
       "         7.39300e+00, 9.93000e+01, 2.45270e+00, 2.40000e+01, 6.66000e+02,\n",
       "         2.02000e+01, 3.75870e+02, 1.67400e+01],\n",
       "        [2.33099e+00, 0.00000e+00, 1.95800e+01, 0.00000e+00, 8.71000e-01,\n",
       "         5.18600e+00, 9.38000e+01, 1.52960e+00, 5.00000e+00, 4.03000e+02,\n",
       "         1.47000e+01, 3.56990e+02, 2.83200e+01],\n",
       "        [1.51902e+00, 0.00000e+00, 1.95800e+01, 1.00000e+00, 6.05000e-01,\n",
       "         8.37500e+00, 9.39000e+01, 2.16200e+00, 5.00000e+00, 4.03000e+02,\n",
       "         1.47000e+01, 3.88450e+02, 3.32000e+00],\n",
       "        [8.70700e-02, 0.00000e+00, 1.28300e+01, 0.00000e+00, 4.37000e-01,\n",
       "         6.14000e+00, 4.58000e+01, 4.09050e+00, 5.00000e+00, 3.98000e+02,\n",
       "         1.87000e+01, 3.86960e+02, 1.02700e+01],\n",
       "        [5.82401e+00, 0.00000e+00, 1.81000e+01, 0.00000e+00, 5.32000e-01,\n",
       "         6.24200e+00, 6.47000e+01, 3.42420e+00, 2.40000e+01, 6.66000e+02,\n",
       "         2.02000e+01, 3.96900e+02, 1.07400e+01],\n",
       "        [3.31470e-01, 0.00000e+00, 6.20000e+00, 0.00000e+00, 5.07000e-01,\n",
       "         8.24700e+00, 7.04000e+01, 3.65190e+00, 8.00000e+00, 3.07000e+02,\n",
       "         1.74000e+01, 3.78950e+02, 3.95000e+00],\n",
       "        [1.40507e+01, 0.00000e+00, 1.81000e+01, 0.00000e+00, 5.97000e-01,\n",
       "         6.65700e+00, 1.00000e+02, 1.52750e+00, 2.40000e+01, 6.66000e+02,\n",
       "         2.02000e+01, 3.50500e+01, 2.12200e+01],\n",
       "        [9.18702e+00, 0.00000e+00, 1.81000e+01, 0.00000e+00, 7.00000e-01,\n",
       "         5.53600e+00, 1.00000e+02, 1.58040e+00, 2.40000e+01, 6.66000e+02,\n",
       "         2.02000e+01, 3.96900e+02, 2.36000e+01],\n",
       "        [1.00245e+00, 0.00000e+00, 8.14000e+00, 0.00000e+00, 5.38000e-01,\n",
       "         6.67400e+00, 8.73000e+01, 4.23900e+00, 4.00000e+00, 3.07000e+02,\n",
       "         2.10000e+01, 3.80230e+02, 1.19800e+01],\n",
       "        [6.71800e-01, 0.00000e+00, 1.81000e+01, 0.00000e+00, 7.40000e-01,\n",
       "         6.45900e+00, 9.48000e+01, 1.98790e+00, 2.40000e+01, 6.66000e+02,\n",
       "         2.02000e+01, 4.30600e+01, 2.39800e+01],\n",
       "        [5.18800e-02, 0.00000e+00, 4.49000e+00, 0.00000e+00, 4.49000e-01,\n",
       "         6.01500e+00, 4.51000e+01, 4.42720e+00, 3.00000e+00, 2.47000e+02,\n",
       "         1.85000e+01, 3.95990e+02, 1.28600e+01],\n",
       "        [6.39312e+00, 0.00000e+00, 1.81000e+01, 0.00000e+00, 5.84000e-01,\n",
       "         6.16200e+00, 9.74000e+01, 2.20600e+00, 2.40000e+01, 6.66000e+02,\n",
       "         2.02000e+01, 3.02760e+02, 2.41000e+01],\n",
       "        [4.64689e+00, 0.00000e+00, 1.81000e+01, 0.00000e+00, 6.14000e-01,\n",
       "         6.98000e+00, 6.76000e+01, 2.53290e+00, 2.40000e+01, 6.66000e+02,\n",
       "         2.02000e+01, 3.74680e+02, 1.16600e+01],\n",
       "        [8.40540e-01, 0.00000e+00, 8.14000e+00, 0.00000e+00, 5.38000e-01,\n",
       "         5.59900e+00, 8.57000e+01, 4.45460e+00, 4.00000e+00, 3.07000e+02,\n",
       "         2.10000e+01, 3.03420e+02, 1.65100e+01],\n",
       "        [7.15100e-02, 0.00000e+00, 4.49000e+00, 0.00000e+00, 4.49000e-01,\n",
       "         6.12100e+00, 5.68000e+01, 3.74760e+00, 3.00000e+00, 2.47000e+02,\n",
       "         1.85000e+01, 3.95150e+02, 8.44000e+00],\n",
       "        [9.91655e+00, 0.00000e+00, 1.81000e+01, 0.00000e+00, 6.93000e-01,\n",
       "         5.85200e+00, 7.78000e+01, 1.50040e+00, 2.40000e+01, 6.66000e+02,\n",
       "         2.02000e+01, 3.38160e+02, 2.99700e+01],\n",
       "        [9.25200e-02, 3.00000e+01, 4.93000e+00, 0.00000e+00, 4.28000e-01,\n",
       "         6.60600e+00, 4.22000e+01, 6.18990e+00, 6.00000e+00, 3.00000e+02,\n",
       "         1.66000e+01, 3.83780e+02, 7.37000e+00],\n",
       "        [1.40300e-01, 2.20000e+01, 5.86000e+00, 0.00000e+00, 4.31000e-01,\n",
       "         6.48700e+00, 1.30000e+01, 7.39670e+00, 7.00000e+00, 3.30000e+02,\n",
       "         1.91000e+01, 3.96280e+02, 5.90000e+00],\n",
       "        [1.87000e-02, 8.50000e+01, 4.15000e+00, 0.00000e+00, 4.29000e-01,\n",
       "         6.51600e+00, 2.77000e+01, 8.53530e+00, 4.00000e+00, 3.51000e+02,\n",
       "         1.79000e+01, 3.92430e+02, 6.36000e+00],\n",
       "        [4.15292e+01, 0.00000e+00, 1.81000e+01, 0.00000e+00, 6.93000e-01,\n",
       "         5.53100e+00, 8.54000e+01, 1.60740e+00, 2.40000e+01, 6.66000e+02,\n",
       "         2.02000e+01, 3.29460e+02, 2.73800e+01],\n",
       "        [3.65900e-02, 2.50000e+01, 4.86000e+00, 0.00000e+00, 4.26000e-01,\n",
       "         6.30200e+00, 3.22000e+01, 5.40070e+00, 4.00000e+00, 2.81000e+02,\n",
       "         1.90000e+01, 3.96900e+02, 6.72000e+00],\n",
       "        [9.88430e-01, 0.00000e+00, 8.14000e+00, 0.00000e+00, 5.38000e-01,\n",
       "         5.81300e+00, 1.00000e+02, 4.09520e+00, 4.00000e+00, 3.07000e+02,\n",
       "         2.10000e+01, 3.94540e+02, 1.98800e+01],\n",
       "        [4.66600e-02, 8.00000e+01, 1.52000e+00, 0.00000e+00, 4.04000e-01,\n",
       "         7.10700e+00, 3.66000e+01, 7.30900e+00, 2.00000e+00, 3.29000e+02,\n",
       "         1.26000e+01, 3.54310e+02, 8.61000e+00],\n",
       "        [6.46600e-02, 7.00000e+01, 2.24000e+00, 0.00000e+00, 4.00000e-01,\n",
       "         6.34500e+00, 2.01000e+01, 7.82780e+00, 5.00000e+00, 3.58000e+02,\n",
       "         1.48000e+01, 3.68240e+02, 4.97000e+00],\n",
       "        [1.35472e+00, 0.00000e+00, 8.14000e+00, 0.00000e+00, 5.38000e-01,\n",
       "         6.07200e+00, 1.00000e+02, 4.17500e+00, 4.00000e+00, 3.07000e+02,\n",
       "         2.10000e+01, 3.76730e+02, 1.30400e+01],\n",
       "        [8.30800e-02, 0.00000e+00, 2.46000e+00, 0.00000e+00, 4.88000e-01,\n",
       "         5.60400e+00, 8.98000e+01, 2.98790e+00, 3.00000e+00, 1.93000e+02,\n",
       "         1.78000e+01, 3.91000e+02, 1.39800e+01],\n",
       "        [5.69175e+00, 0.00000e+00, 1.81000e+01, 0.00000e+00, 5.83000e-01,\n",
       "         6.11400e+00, 7.98000e+01, 3.54590e+00, 2.40000e+01, 6.66000e+02,\n",
       "         2.02000e+01, 3.92680e+02, 1.49800e+01],\n",
       "        [1.95390e-01, 0.00000e+00, 1.08100e+01, 0.00000e+00, 4.13000e-01,\n",
       "         6.24500e+00, 6.20000e+00, 5.28730e+00, 4.00000e+00, 3.05000e+02,\n",
       "         1.92000e+01, 3.77170e+02, 7.54000e+00],\n",
       "        [5.11358e+01, 0.00000e+00, 1.81000e+01, 0.00000e+00, 5.97000e-01,\n",
       "         5.75700e+00, 1.00000e+02, 1.41300e+00, 2.40000e+01, 6.66000e+02,\n",
       "         2.02000e+01, 2.60000e+00, 1.01100e+01],\n",
       "        [1.00623e+01, 0.00000e+00, 1.81000e+01, 0.00000e+00, 5.84000e-01,\n",
       "         6.83300e+00, 9.43000e+01, 2.08820e+00, 2.40000e+01, 6.66000e+02,\n",
       "         2.02000e+01, 8.13300e+01, 1.96900e+01],\n",
       "        [8.26500e-02, 0.00000e+00, 1.39200e+01, 0.00000e+00, 4.37000e-01,\n",
       "         6.12700e+00, 1.84000e+01, 5.50270e+00, 4.00000e+00, 2.89000e+02,\n",
       "         1.60000e+01, 3.96900e+02, 8.58000e+00],\n",
       "        [1.18123e+01, 0.00000e+00, 1.81000e+01, 0.00000e+00, 7.18000e-01,\n",
       "         6.82400e+00, 7.65000e+01, 1.79400e+00, 2.40000e+01, 6.66000e+02,\n",
       "         2.02000e+01, 4.84500e+01, 2.27400e+01],\n",
       "        [5.78900e-02, 1.25000e+01, 6.07000e+00, 0.00000e+00, 4.09000e-01,\n",
       "         5.87800e+00, 2.14000e+01, 6.49800e+00, 4.00000e+00, 3.45000e+02,\n",
       "         1.89000e+01, 3.96210e+02, 8.10000e+00],\n",
       "        [1.95100e-02, 1.75000e+01, 1.38000e+00, 0.00000e+00, 4.16100e-01,\n",
       "         7.10400e+00, 5.95000e+01, 9.22290e+00, 3.00000e+00, 2.16000e+02,\n",
       "         1.86000e+01, 3.93240e+02, 8.05000e+00],\n",
       "        [8.79212e+00, 0.00000e+00, 1.81000e+01, 0.00000e+00, 5.84000e-01,\n",
       "         5.56500e+00, 7.06000e+01, 2.06350e+00, 2.40000e+01, 6.66000e+02,\n",
       "         2.02000e+01, 3.65000e+00, 1.71600e+01],\n",
       "        [1.30100e-02, 3.50000e+01, 1.52000e+00, 0.00000e+00, 4.42000e-01,\n",
       "         7.24100e+00, 4.93000e+01, 7.03790e+00, 1.00000e+00, 2.84000e+02,\n",
       "         1.55000e+01, 3.94740e+02, 5.49000e+00],\n",
       "        [1.70900e-02, 9.00000e+01, 2.02000e+00, 0.00000e+00, 4.10000e-01,\n",
       "         6.72800e+00, 3.61000e+01, 1.21265e+01, 5.00000e+00, 1.87000e+02,\n",
       "         1.70000e+01, 3.84460e+02, 4.50000e+00],\n",
       "        [4.46200e-02, 2.50000e+01, 4.86000e+00, 0.00000e+00, 4.26000e-01,\n",
       "         6.61900e+00, 7.04000e+01, 5.40070e+00, 4.00000e+00, 2.81000e+02,\n",
       "         1.90000e+01, 3.95630e+02, 7.22000e+00],\n",
       "        [5.20580e-01, 0.00000e+00, 6.20000e+00, 1.00000e+00, 5.07000e-01,\n",
       "         6.63100e+00, 7.65000e+01, 4.14800e+00, 8.00000e+00, 3.07000e+02,\n",
       "         1.74000e+01, 3.88450e+02, 9.54000e+00],\n",
       "        [5.70818e+00, 0.00000e+00, 1.81000e+01, 0.00000e+00, 5.32000e-01,\n",
       "         6.75000e+00, 7.49000e+01, 3.33170e+00, 2.40000e+01, 6.66000e+02,\n",
       "         2.02000e+01, 3.93070e+02, 7.74000e+00],\n",
       "        [2.44668e+00, 0.00000e+00, 1.95800e+01, 0.00000e+00, 8.71000e-01,\n",
       "         5.27200e+00, 9.40000e+01, 1.73640e+00, 5.00000e+00, 4.03000e+02,\n",
       "         1.47000e+01, 8.86300e+01, 1.61400e+01],\n",
       "        [6.16200e-02, 0.00000e+00, 4.39000e+00, 0.00000e+00, 4.42000e-01,\n",
       "         5.89800e+00, 5.23000e+01, 8.01360e+00, 3.00000e+00, 3.52000e+02,\n",
       "         1.88000e+01, 3.64610e+02, 1.26700e+01],\n",
       "        [6.32000e-03, 1.80000e+01, 2.31000e+00, 0.00000e+00, 5.38000e-01,\n",
       "         6.57500e+00, 6.52000e+01, 4.09000e+00, 1.00000e+00, 2.96000e+02,\n",
       "         1.53000e+01, 3.96900e+02, 4.98000e+00]]),\n",
       " array([16.7, 23.1, 13.3, 19.7, 20.2, 50. , 21.4,  8.3, 17.5, 28.5, 18.8,\n",
       "        25. , 13.5, 22.2, 24.8, 19.4, 29.6, 32. , 13.3, 50. , 22. ,  7. ,\n",
       "        10.2, 10.2, 12.8, 17.1,  5.6, 23.3, 19.6, 21.2, 21.6, 25. , 19. ,\n",
       "        27.1, 14.1, 36.2, 23.1, 16.1, 20.1, 25.2, 24.4, 30.1, 41.7, 25. ,\n",
       "        19.9, 30.8, 33.8, 11.8, 16.6, 37. , 22.8, 23.2, 17. , 22.7, 20. ,\n",
       "        21.4, 13.6, 13.6, 24.2, 10.4, 15.2, 50. , 18.9, 42.8, 21.1,  7.4,\n",
       "        25.3, 24.6, 16.8, 12.6, 14.2, 14.5, 23.7, 24.4, 14.8, 23.8, 19.6,\n",
       "        22.6, 18.7, 22.8, 12.1, 29.6, 18.2, 36.2, 23.9, 23.6, 19.4, 12.7,\n",
       "        17.6, 32.2, 13.8, 10.4, 18.6, 29. , 27.9, 36. , 23.9, 22. , 22.9,\n",
       "        22. , 19.3, 17.5, 26.5, 10.9, 18.9, 20.8, 34.9, 50. , 19.3, 27.5,\n",
       "        15.7, 19.5, 28.7, 13.4, 17.2, 20.1,  8.8,  7.2, 31.7, 10.5, 41.3,\n",
       "        18.9, 14.9, 19.2, 50. , 23. , 26.6, 22.6, 18.4, 13.4, 18.4, 20.9,\n",
       "        23.8, 19.6, 19.5, 36.4, 46.7, 18.3, 23.4, 50. , 13.8, 19.3, 50. ,\n",
       "        35.4, 20.8, 21. , 12.3, 20.5, 21.1, 21.2, 24.1, 25. , 28.2, 23.3,\n",
       "        19.8, 19.5, 20.6, 36.5, 15.6, 21. , 11.9, 20.6, 25. , 20.5, 21.7,\n",
       "         9.7, 22.4, 33.2, 37.2, 12. ,  8.7, 13. , 33.1, 15. ,  9.5, 31. ,\n",
       "        15.6, 16.5, 21.8, 22.3, 17.1, 30.1, 50. , 19.6,  7. , 13.4, 29.9,\n",
       "        34.7, 39.8,  8.3, 12.7, 31.5, 21.7, 19.1, 15.4, 16.5, 26.4, 16.1,\n",
       "        45.4, 17.7, 21.9, 22.6, 16.7, 22.1, 22.8, 43.8, 13.1, 50. , 23.8,\n",
       "        22.4, 35.4, 15.4, 26.7, 15.2, 22.9,  5. , 37.3, 24.5, 28.1, 20.7,\n",
       "        24.6, 42.3, 17.8, 18.5, 21.7, 33.2, 18.2,  8.8, 21.7, 10.5, 15.2,\n",
       "        11. , 17.3, 21.4, 22.8, 44.8, 15.3, 15.6, 29.4, 18.6, 22.9, 23.3,\n",
       "        22.6, 21.5, 14.4, 27. , 20.4, 13.8, 17.4, 33.4, 17.1, 37.9, 17.4,\n",
       "        16.6, 14.3, 19.4, 38.7, 24.4,  9.6, 21.7, 20.3, 50. , 23.9, 48.8,\n",
       "        19.3, 34.9, 23.1, 20.4, 20.9, 15. , 24.7, 27.5, 29.1, 28.7, 34.9,\n",
       "        21.6, 33.3,  8.4, 22.7, 11.9, 23.1, 22. , 30.7, 18.8, 21.7, 14. ,\n",
       "        19.6, 32.4, 21.4, 14.9, 20. , 13.2, 23.8, 13.8, 19.9, 28.6, 16.2,\n",
       "        23.7, 13.5, 14.3, 21.4, 46. , 25. , 28.4, 18.4, 19.9,  5. , 22.3,\n",
       "        29. , 27.5, 18.5, 23.6, 21.5, 18.5, 19.2, 20.3, 50. , 20.4, 31.2,\n",
       "        19.9,  7.2, 20.6, 24.3,  8.5, 18.7, 29.1, 27.9, 15.6, 20.6, 16.2,\n",
       "        12.5, 20.5, 33.4, 24.5, 19.4, 31.1, 31.6, 20.1, 24.1, 19.7, 24.1,\n",
       "        10.8, 20.7, 20. , 22.2, 24.8, 23. , 20. , 50. , 18.1, 20.6, 21.7,\n",
       "        37.6, 18.2, 17.8, 34.6,  7.2, 23.1, 24. , 16.4, 20.1, 17.4, 23.1,\n",
       "        20.2, 26.6, 30.5, 19.5, 26.6, 19.4, 23.2, 23.7, 24.3, 15.6, 14.6,\n",
       "        19.8, 10.2, 14.9, 19.1, 13.1, 43.1, 19. , 27.5, 22.2, 33.1, 24.3,\n",
       "        22.6, 21.9, 20.1, 50. , 11.7, 22.5, 18.5, 43.5, 22.9,  7.5, 18.9,\n",
       "        28. , 14.1, 15.1, 17.5, 21.2, 32. , 23.2, 31.5, 18.3, 19.3, 19.8,\n",
       "        23. , 50. , 19.1, 32.5, 21.2, 24.8, 28.7, 29.8, 16.8, 20.4, 36.1,\n",
       "        20. , 13.4, 27.1, 21.9, 13.1, 25. , 14.6, 24.7, 44. , 13.9, 35.2,\n",
       "        16.1, 11.5, 17.8, 20.3, 13.8, 16.3, 22.2, 50. , 14.4, 26.2, 18. ,\n",
       "        17.9, 31.6, 28.4, 10.9, 16. , 18.7, 22. , 25. , 35.1, 24.5, 20.3,\n",
       "        48.5, 19.4, 20.6, 22. ]),\n",
       " array([ 8.1, 23.5, 12.7, 32.9, 21.8, 21.2, 23.2, 24.7, 17.8, 17.8, 50. ,\n",
       "        20.8, 23. , 48.3, 17.2, 11.3, 21. , 11.8, 22.5, 13.3, 29.8, 13.9,\n",
       "        22.2,  6.3, 23.3, 24.4, 23.1,  8.5, 24.8, 14.5, 30.3, 22.5, 14.5,\n",
       "        26.4, 19.1, 23.4, 15. , 14.1, 23.9,  8.4, 22. , 33. , 11.7, 32.7,\n",
       "        30.1, 23.9, 25.1, 23.7, 13.1, 17.2, 24. ])]"
      ]
     },
     "execution_count": 31,
     "metadata": {},
     "output_type": "execute_result"
    }
   ],
   "source": [
    "# The ratio of training & testing is 9:1 \n",
    "train_test_split(boston[\"data\"],boston[\"target\"],test_size=0.1)                                                     \n",
    "# Return 90% training data, 10% testing data, 90% label, 10% label "
   ]
  },
  {
   "cell_type": "code",
   "execution_count": 32,
   "metadata": {},
   "outputs": [],
   "source": [
    "# Save 90% training data, 10% testing data, 90% label, 10% label to four variabels \n",
    "x_train, x_test, y_train, y_test = train_test_split(boston[\"data\"], \n",
    "                                                    boston[\"target\"], \n",
    "                                                    test_size=0.1)"
   ]
  },
  {
   "cell_type": "code",
   "execution_count": null,
   "metadata": {},
   "outputs": [],
   "source": []
  },
  {
   "cell_type": "markdown",
   "metadata": {},
   "source": [
    "### Training the model\n",
    "- Decision Tree"
   ]
  },
  {
   "cell_type": "code",
   "execution_count": 92,
   "metadata": {
    "scrolled": false
   },
   "outputs": [],
   "source": [
    "from sklearn.tree import DecisionTreeRegressor\n",
    "\n",
    "# Create a model called reg\n",
    "reg1 = DecisionTreeRegressor()"
   ]
  },
  {
   "cell_type": "code",
   "execution_count": 93,
   "metadata": {
    "scrolled": true
   },
   "outputs": [
    {
     "data": {
      "text/plain": [
       "DecisionTreeRegressor(criterion='mse', max_depth=None, max_features=None,\n",
       "           max_leaf_nodes=None, min_impurity_decrease=0.0,\n",
       "           min_impurity_split=None, min_samples_leaf=1,\n",
       "           min_samples_split=2, min_weight_fraction_leaf=0.0,\n",
       "           presort=False, random_state=None, splitter='best')"
      ]
     },
     "execution_count": 93,
     "metadata": {},
     "output_type": "execute_result"
    }
   ],
   "source": [
    "# Train model: Using training data & corresponding labels\n",
    "reg1.fit(x_train, y_train)"
   ]
  },
  {
   "cell_type": "markdown",
   "metadata": {},
   "source": [
    "## Prediction"
   ]
  },
  {
   "cell_type": "code",
   "execution_count": 139,
   "metadata": {},
   "outputs": [],
   "source": [
    "import numpy as np"
   ]
  },
  {
   "cell_type": "code",
   "execution_count": 141,
   "metadata": {},
   "outputs": [
    {
     "name": "stdout",
     "output_type": "stream",
     "text": [
      "Actual Price: [23.1 20.  12.6 22.7 25.3]\n",
      "\n",
      "Predicted Price: [24.5 18.9 18.4 20.2 24.7]\n",
      "\n",
      "Difference: [ 1.4 -1.1  5.8 -2.5 -0.6]\n"
     ]
    }
   ],
   "source": [
    "predict = reg1.predict(x_test) \n",
    "print(\"Actual Price:\", y_test[:5]) \n",
    "print()\n",
    "print(\"Predicted Price:\", predict[:5])\n",
    "interval = np.subtract(predict, y_test) \n",
    "print()\n",
    "print(\"Difference:\", interval[:5])"
   ]
  },
  {
   "cell_type": "markdown",
   "metadata": {},
   "source": [
    "### R square\n",
    "R-squared is a statistical measure of how close the data are to the fitted regression line"
   ]
  },
  {
   "cell_type": "markdown",
   "metadata": {},
   "source": [
    "![](R2.png)"
   ]
  },
  {
   "cell_type": "code",
   "execution_count": 98,
   "metadata": {},
   "outputs": [],
   "source": [
    "from sklearn.metrics import r2_score"
   ]
  },
  {
   "cell_type": "code",
   "execution_count": 100,
   "metadata": {},
   "outputs": [
    {
     "name": "stdout",
     "output_type": "stream",
     "text": [
      "r2 score: 1.0\n"
     ]
    }
   ],
   "source": [
    "# Training \n",
    "R2_training = r2_score(y_train, reg1.predict(x_train)) \n",
    "print(\"r2 score:\", R2_training)"
   ]
  },
  {
   "cell_type": "code",
   "execution_count": 155,
   "metadata": {},
   "outputs": [
    {
     "name": "stdout",
     "output_type": "stream",
     "text": [
      "r2 score: 0.8423644079430607\n"
     ]
    }
   ],
   "source": [
    "# Testing\n",
    "R2_testing = r2_score(y_test, reg1.predict(x_test)) \n",
    "print(\"r2 score:\", R2)"
   ]
  },
  {
   "cell_type": "code",
   "execution_count": null,
   "metadata": {},
   "outputs": [],
   "source": []
  },
  {
   "cell_type": "markdown",
   "metadata": {},
   "source": [
    "## Prevent overfitting: pre-pruning"
   ]
  },
  {
   "cell_type": "code",
   "execution_count": 144,
   "metadata": {},
   "outputs": [
    {
     "data": {
      "text/plain": [
       "DecisionTreeRegressor(criterion='mse', max_depth=3, max_features=None,\n",
       "           max_leaf_nodes=None, min_impurity_decrease=0.0,\n",
       "           min_impurity_split=None, min_samples_leaf=1,\n",
       "           min_samples_split=2, min_weight_fraction_leaf=0.0,\n",
       "           presort=False, random_state=None, splitter='best')"
      ]
     },
     "execution_count": 144,
     "metadata": {},
     "output_type": "execute_result"
    }
   ],
   "source": [
    "reg2 = DecisionTreeRegressor(max_depth=3) # set the parameter: max_depth=3\n",
    "reg2.fit(x_train, y_train)"
   ]
  },
  {
   "cell_type": "markdown",
   "metadata": {},
   "source": [
    "### Plot the decision tree: using graphviz\n",
    "We need to install this third-party libraries first<br> \n",
    "How To Install graphviz on Mac with Brew? \n",
    "- Launch Terminal\n",
    "- type \"brew install graphviz\""
   ]
  },
  {
   "cell_type": "code",
   "execution_count": 145,
   "metadata": {},
   "outputs": [],
   "source": [
    "import graphviz\n",
    "from sklearn.tree import export_graphviz"
   ]
  },
  {
   "cell_type": "code",
   "execution_count": 146,
   "metadata": {},
   "outputs": [],
   "source": [
    "# Remeber add the parameter:  out_file = None, otherwise it will cause error\n",
    "g2 = export_graphviz(reg2, feature_names=boston[\"feature_names\"], filled=True,out_file = None)"
   ]
  },
  {
   "cell_type": "code",
   "execution_count": 147,
   "metadata": {},
   "outputs": [
    {
     "data": {
      "image/svg+xml": [
       "<?xml version=\"1.0\" encoding=\"UTF-8\" standalone=\"no\"?>\n",
       "<!DOCTYPE svg PUBLIC \"-//W3C//DTD SVG 1.1//EN\"\n",
       " \"http://www.w3.org/Graphics/SVG/1.1/DTD/svg11.dtd\">\n",
       "<!-- Generated by graphviz version 2.38.0 (20140413.2041)\n",
       " -->\n",
       "<!-- Title: Tree Pages: 1 -->\n",
       "<svg width=\"906pt\" height=\"358pt\"\n",
       " viewBox=\"0.00 0.00 905.71 358.00\" xmlns=\"http://www.w3.org/2000/svg\" xmlns:xlink=\"http://www.w3.org/1999/xlink\">\n",
       "<g id=\"graph0\" class=\"graph\" transform=\"scale(1 1) rotate(0) translate(4 354)\">\n",
       "<title>Tree</title>\n",
       "<polygon fill=\"white\" stroke=\"none\" points=\"-4,4 -4,-354 901.713,-354 901.713,4 -4,4\"/>\n",
       "<!-- 0 -->\n",
       "<g id=\"node1\" class=\"node\"><title>0</title>\n",
       "<polygon fill=\"#e58139\" fill-opacity=\"0.266667\" stroke=\"black\" points=\"482.787,-350 378.926,-350 378.926,-286 482.787,-286 482.787,-350\"/>\n",
       "<text text-anchor=\"middle\" x=\"430.856\" y=\"-334.8\" font-family=\"Times,serif\" font-size=\"14.00\">LSTAT &lt;= 9.63</text>\n",
       "<text text-anchor=\"middle\" x=\"430.856\" y=\"-320.8\" font-family=\"Times,serif\" font-size=\"14.00\">mse = 84.413</text>\n",
       "<text text-anchor=\"middle\" x=\"430.856\" y=\"-306.8\" font-family=\"Times,serif\" font-size=\"14.00\">samples = 455</text>\n",
       "<text text-anchor=\"middle\" x=\"430.856\" y=\"-292.8\" font-family=\"Times,serif\" font-size=\"14.00\">value = 22.472</text>\n",
       "</g>\n",
       "<!-- 1 -->\n",
       "<g id=\"node2\" class=\"node\"><title>1</title>\n",
       "<polygon fill=\"#e58139\" fill-opacity=\"0.466667\" stroke=\"black\" points=\"368.355,-250 271.357,-250 271.357,-186 368.355,-186 368.355,-250\"/>\n",
       "<text text-anchor=\"middle\" x=\"319.856\" y=\"-234.8\" font-family=\"Times,serif\" font-size=\"14.00\">RM &lt;= 7.433</text>\n",
       "<text text-anchor=\"middle\" x=\"319.856\" y=\"-220.8\" font-family=\"Times,serif\" font-size=\"14.00\">mse = 78.568</text>\n",
       "<text text-anchor=\"middle\" x=\"319.856\" y=\"-206.8\" font-family=\"Times,serif\" font-size=\"14.00\">samples = 186</text>\n",
       "<text text-anchor=\"middle\" x=\"319.856\" y=\"-192.8\" font-family=\"Times,serif\" font-size=\"14.00\">value = 29.93</text>\n",
       "</g>\n",
       "<!-- 0&#45;&gt;1 -->\n",
       "<g id=\"edge1\" class=\"edge\"><title>0&#45;&gt;1</title>\n",
       "<path fill=\"none\" stroke=\"black\" d=\"M395.735,-285.992C385.309,-276.787 373.768,-266.598 362.9,-257.002\"/>\n",
       "<polygon fill=\"black\" stroke=\"black\" points=\"364.943,-254.137 355.13,-250.142 360.31,-259.385 364.943,-254.137\"/>\n",
       "<text text-anchor=\"middle\" x=\"356.682\" y=\"-270.894\" font-family=\"Times,serif\" font-size=\"14.00\">True</text>\n",
       "</g>\n",
       "<!-- 8 -->\n",
       "<g id=\"node9\" class=\"node\"><title>8</title>\n",
       "<polygon fill=\"#e58139\" fill-opacity=\"0.129412\" stroke=\"black\" points=\"611.787,-250 493.926,-250 493.926,-186 611.787,-186 611.787,-250\"/>\n",
       "<text text-anchor=\"middle\" x=\"552.856\" y=\"-234.8\" font-family=\"Times,serif\" font-size=\"14.00\">LSTAT &lt;= 16.085</text>\n",
       "<text text-anchor=\"middle\" x=\"552.856\" y=\"-220.8\" font-family=\"Times,serif\" font-size=\"14.00\">mse = 23.412</text>\n",
       "<text text-anchor=\"middle\" x=\"552.856\" y=\"-206.8\" font-family=\"Times,serif\" font-size=\"14.00\">samples = 269</text>\n",
       "<text text-anchor=\"middle\" x=\"552.856\" y=\"-192.8\" font-family=\"Times,serif\" font-size=\"14.00\">value = 17.316</text>\n",
       "</g>\n",
       "<!-- 0&#45;&gt;8 -->\n",
       "<g id=\"edge8\" class=\"edge\"><title>0&#45;&gt;8</title>\n",
       "<path fill=\"none\" stroke=\"black\" d=\"M469.458,-285.992C481.14,-276.608 494.095,-266.202 506.243,-256.444\"/>\n",
       "<polygon fill=\"black\" stroke=\"black\" points=\"508.483,-259.134 514.087,-250.142 504.099,-253.676 508.483,-259.134\"/>\n",
       "<text text-anchor=\"middle\" x=\"511.376\" y=\"-270.795\" font-family=\"Times,serif\" font-size=\"14.00\">False</text>\n",
       "</g>\n",
       "<!-- 2 -->\n",
       "<g id=\"node3\" class=\"node\"><title>2</title>\n",
       "<polygon fill=\"#e58139\" fill-opacity=\"0.396078\" stroke=\"black\" points=\"203.57,-150 104.143,-150 104.143,-86 203.57,-86 203.57,-150\"/>\n",
       "<text text-anchor=\"middle\" x=\"153.856\" y=\"-134.8\" font-family=\"Times,serif\" font-size=\"14.00\">DIS &lt;= 1.485</text>\n",
       "<text text-anchor=\"middle\" x=\"153.856\" y=\"-120.8\" font-family=\"Times,serif\" font-size=\"14.00\">mse = 40.062</text>\n",
       "<text text-anchor=\"middle\" x=\"153.856\" y=\"-106.8\" font-family=\"Times,serif\" font-size=\"14.00\">samples = 158</text>\n",
       "<text text-anchor=\"middle\" x=\"153.856\" y=\"-92.8\" font-family=\"Times,serif\" font-size=\"14.00\">value = 27.304</text>\n",
       "</g>\n",
       "<!-- 1&#45;&gt;2 -->\n",
       "<g id=\"edge2\" class=\"edge\"><title>1&#45;&gt;2</title>\n",
       "<path fill=\"none\" stroke=\"black\" d=\"M270.949,-188.127C252.62,-177.306 231.607,-164.901 212.487,-153.613\"/>\n",
       "<polygon fill=\"black\" stroke=\"black\" points=\"214.243,-150.585 203.852,-148.515 210.684,-156.613 214.243,-150.585\"/>\n",
       "</g>\n",
       "<!-- 5 -->\n",
       "<g id=\"node6\" class=\"node\"><title>5</title>\n",
       "<polygon fill=\"#e58139\" fill-opacity=\"0.858824\" stroke=\"black\" points=\"369.57,-150 270.143,-150 270.143,-86 369.57,-86 369.57,-150\"/>\n",
       "<text text-anchor=\"middle\" x=\"319.856\" y=\"-134.8\" font-family=\"Times,serif\" font-size=\"14.00\">RM &lt;= 8.753</text>\n",
       "<text text-anchor=\"middle\" x=\"319.856\" y=\"-120.8\" font-family=\"Times,serif\" font-size=\"14.00\">mse = 37.405</text>\n",
       "<text text-anchor=\"middle\" x=\"319.856\" y=\"-106.8\" font-family=\"Times,serif\" font-size=\"14.00\">samples = 28</text>\n",
       "<text text-anchor=\"middle\" x=\"319.856\" y=\"-92.8\" font-family=\"Times,serif\" font-size=\"14.00\">value = 44.746</text>\n",
       "</g>\n",
       "<!-- 1&#45;&gt;5 -->\n",
       "<g id=\"edge5\" class=\"edge\"><title>1&#45;&gt;5</title>\n",
       "<path fill=\"none\" stroke=\"black\" d=\"M319.856,-185.992C319.856,-177.859 319.856,-168.959 319.856,-160.378\"/>\n",
       "<polygon fill=\"black\" stroke=\"black\" points=\"323.357,-160.142 319.856,-150.142 316.357,-160.142 323.357,-160.142\"/>\n",
       "</g>\n",
       "<!-- 3 -->\n",
       "<g id=\"node4\" class=\"node\"><title>3</title>\n",
       "<polygon fill=\"#e58139\" stroke=\"black\" points=\"85.5698,-50 0.143075,-50 0.143075,-0 85.5698,-0 85.5698,-50\"/>\n",
       "<text text-anchor=\"middle\" x=\"42.8564\" y=\"-34.8\" font-family=\"Times,serif\" font-size=\"14.00\">mse = 0.0</text>\n",
       "<text text-anchor=\"middle\" x=\"42.8564\" y=\"-20.8\" font-family=\"Times,serif\" font-size=\"14.00\">samples = 4</text>\n",
       "<text text-anchor=\"middle\" x=\"42.8564\" y=\"-6.8\" font-family=\"Times,serif\" font-size=\"14.00\">value = 50.0</text>\n",
       "</g>\n",
       "<!-- 2&#45;&gt;3 -->\n",
       "<g id=\"edge3\" class=\"edge\"><title>2&#45;&gt;3</title>\n",
       "<path fill=\"none\" stroke=\"black\" d=\"M115.967,-85.9375C104.332,-76.3993 91.5461,-65.9167 79.9645,-56.4219\"/>\n",
       "<polygon fill=\"black\" stroke=\"black\" points=\"82.1202,-53.6634 72.1679,-50.0301 77.6822,-59.0768 82.1202,-53.6634\"/>\n",
       "</g>\n",
       "<!-- 4 -->\n",
       "<g id=\"node5\" class=\"node\"><title>4</title>\n",
       "<polygon fill=\"#e58139\" fill-opacity=\"0.380392\" stroke=\"black\" points=\"203.57,-50 104.143,-50 104.143,-0 203.57,-0 203.57,-50\"/>\n",
       "<text text-anchor=\"middle\" x=\"153.856\" y=\"-34.8\" font-family=\"Times,serif\" font-size=\"14.00\">mse = 27.376</text>\n",
       "<text text-anchor=\"middle\" x=\"153.856\" y=\"-20.8\" font-family=\"Times,serif\" font-size=\"14.00\">samples = 154</text>\n",
       "<text text-anchor=\"middle\" x=\"153.856\" y=\"-6.8\" font-family=\"Times,serif\" font-size=\"14.00\">value = 26.714</text>\n",
       "</g>\n",
       "<!-- 2&#45;&gt;4 -->\n",
       "<g id=\"edge4\" class=\"edge\"><title>2&#45;&gt;4</title>\n",
       "<path fill=\"none\" stroke=\"black\" d=\"M153.856,-85.9375C153.856,-77.6833 153.856,-68.7219 153.856,-60.3053\"/>\n",
       "<polygon fill=\"black\" stroke=\"black\" points=\"157.357,-60.03 153.856,-50.0301 150.357,-60.0301 157.357,-60.03\"/>\n",
       "</g>\n",
       "<!-- 6 -->\n",
       "<g id=\"node7\" class=\"node\"><title>6</title>\n",
       "<polygon fill=\"#e58139\" fill-opacity=\"0.882353\" stroke=\"black\" points=\"321.57,-50 222.143,-50 222.143,-0 321.57,-0 321.57,-50\"/>\n",
       "<text text-anchor=\"middle\" x=\"271.856\" y=\"-34.8\" font-family=\"Times,serif\" font-size=\"14.00\">mse = 18.742</text>\n",
       "<text text-anchor=\"middle\" x=\"271.856\" y=\"-20.8\" font-family=\"Times,serif\" font-size=\"14.00\">samples = 27</text>\n",
       "<text text-anchor=\"middle\" x=\"271.856\" y=\"-6.8\" font-family=\"Times,serif\" font-size=\"14.00\">value = 45.593</text>\n",
       "</g>\n",
       "<!-- 5&#45;&gt;6 -->\n",
       "<g id=\"edge6\" class=\"edge\"><title>5&#45;&gt;6</title>\n",
       "<path fill=\"none\" stroke=\"black\" d=\"M303.472,-85.9375C298.876,-77.2247 293.865,-67.724 289.214,-58.9078\"/>\n",
       "<polygon fill=\"black\" stroke=\"black\" points=\"292.293,-57.2421 284.532,-50.0301 286.101,-60.508 292.293,-57.2421\"/>\n",
       "</g>\n",
       "<!-- 7 -->\n",
       "<g id=\"node8\" class=\"node\"><title>7</title>\n",
       "<polygon fill=\"#e58139\" fill-opacity=\"0.250980\" stroke=\"black\" points=\"425.57,-50 340.143,-50 340.143,-0 425.57,-0 425.57,-50\"/>\n",
       "<text text-anchor=\"middle\" x=\"382.856\" y=\"-34.8\" font-family=\"Times,serif\" font-size=\"14.00\">mse = &#45;0.0</text>\n",
       "<text text-anchor=\"middle\" x=\"382.856\" y=\"-20.8\" font-family=\"Times,serif\" font-size=\"14.00\">samples = 1</text>\n",
       "<text text-anchor=\"middle\" x=\"382.856\" y=\"-6.8\" font-family=\"Times,serif\" font-size=\"14.00\">value = 21.9</text>\n",
       "</g>\n",
       "<!-- 5&#45;&gt;7 -->\n",
       "<g id=\"edge7\" class=\"edge\"><title>5&#45;&gt;7</title>\n",
       "<path fill=\"none\" stroke=\"black\" d=\"M341.361,-85.9375C347.52,-77.0413 354.248,-67.3236 360.459,-58.352\"/>\n",
       "<polygon fill=\"black\" stroke=\"black\" points=\"363.406,-60.2443 366.22,-50.0301 357.65,-56.2598 363.406,-60.2443\"/>\n",
       "</g>\n",
       "<!-- 9 -->\n",
       "<g id=\"node10\" class=\"node\"><title>9</title>\n",
       "<polygon fill=\"#e58139\" fill-opacity=\"0.203922\" stroke=\"black\" points=\"602.57,-150 503.143,-150 503.143,-86 602.57,-86 602.57,-150\"/>\n",
       "<text text-anchor=\"middle\" x=\"552.856\" y=\"-134.8\" font-family=\"Times,serif\" font-size=\"14.00\">B &lt;= 116.025</text>\n",
       "<text text-anchor=\"middle\" x=\"552.856\" y=\"-120.8\" font-family=\"Times,serif\" font-size=\"14.00\">mse = 10.596</text>\n",
       "<text text-anchor=\"middle\" x=\"552.856\" y=\"-106.8\" font-family=\"Times,serif\" font-size=\"14.00\">samples = 140</text>\n",
       "<text text-anchor=\"middle\" x=\"552.856\" y=\"-92.8\" font-family=\"Times,serif\" font-size=\"14.00\">value = 20.142</text>\n",
       "</g>\n",
       "<!-- 8&#45;&gt;9 -->\n",
       "<g id=\"edge9\" class=\"edge\"><title>8&#45;&gt;9</title>\n",
       "<path fill=\"none\" stroke=\"black\" d=\"M552.856,-185.992C552.856,-177.859 552.856,-168.959 552.856,-160.378\"/>\n",
       "<polygon fill=\"black\" stroke=\"black\" points=\"556.357,-160.142 552.856,-150.142 549.357,-160.142 556.357,-160.142\"/>\n",
       "</g>\n",
       "<!-- 12 -->\n",
       "<g id=\"node13\" class=\"node\"><title>12</title>\n",
       "<polygon fill=\"#e58139\" fill-opacity=\"0.047059\" stroke=\"black\" points=\"779.979,-150 679.734,-150 679.734,-86 779.979,-86 779.979,-150\"/>\n",
       "<text text-anchor=\"middle\" x=\"729.856\" y=\"-134.8\" font-family=\"Times,serif\" font-size=\"14.00\">NOX &lt;= 0.603</text>\n",
       "<text text-anchor=\"middle\" x=\"729.856\" y=\"-120.8\" font-family=\"Times,serif\" font-size=\"14.00\">mse = 19.24</text>\n",
       "<text text-anchor=\"middle\" x=\"729.856\" y=\"-106.8\" font-family=\"Times,serif\" font-size=\"14.00\">samples = 129</text>\n",
       "<text text-anchor=\"middle\" x=\"729.856\" y=\"-92.8\" font-family=\"Times,serif\" font-size=\"14.00\">value = 14.248</text>\n",
       "</g>\n",
       "<!-- 8&#45;&gt;12 -->\n",
       "<g id=\"edge12\" class=\"edge\"><title>8&#45;&gt;12</title>\n",
       "<path fill=\"none\" stroke=\"black\" d=\"M608.86,-185.992C628.534,-175.099 650.696,-162.829 670.626,-151.794\"/>\n",
       "<polygon fill=\"black\" stroke=\"black\" points=\"672.556,-154.727 679.609,-146.821 669.165,-148.603 672.556,-154.727\"/>\n",
       "</g>\n",
       "<!-- 10 -->\n",
       "<g id=\"node11\" class=\"node\"><title>10</title>\n",
       "<polygon fill=\"#e58139\" fill-opacity=\"0.043137\" stroke=\"black\" points=\"543.57,-50 444.143,-50 444.143,-0 543.57,-0 543.57,-50\"/>\n",
       "<text text-anchor=\"middle\" x=\"493.856\" y=\"-34.8\" font-family=\"Times,serif\" font-size=\"14.00\">mse = 8.353</text>\n",
       "<text text-anchor=\"middle\" x=\"493.856\" y=\"-20.8\" font-family=\"Times,serif\" font-size=\"14.00\">samples = 7</text>\n",
       "<text text-anchor=\"middle\" x=\"493.856\" y=\"-6.8\" font-family=\"Times,serif\" font-size=\"14.00\">value = 14.014</text>\n",
       "</g>\n",
       "<!-- 9&#45;&gt;10 -->\n",
       "<g id=\"edge10\" class=\"edge\"><title>9&#45;&gt;10</title>\n",
       "<path fill=\"none\" stroke=\"black\" d=\"M532.717,-85.9375C527.009,-77.133 520.779,-67.5239 515.012,-58.6297\"/>\n",
       "<polygon fill=\"black\" stroke=\"black\" points=\"517.813,-56.5168 509.436,-50.0301 511.94,-60.3249 517.813,-56.5168\"/>\n",
       "</g>\n",
       "<!-- 11 -->\n",
       "<g id=\"node12\" class=\"node\"><title>11</title>\n",
       "<polygon fill=\"#e58139\" fill-opacity=\"0.215686\" stroke=\"black\" points=\"661.57,-50 562.143,-50 562.143,-0 661.57,-0 661.57,-50\"/>\n",
       "<text text-anchor=\"middle\" x=\"611.856\" y=\"-34.8\" font-family=\"Times,serif\" font-size=\"14.00\">mse = 8.634</text>\n",
       "<text text-anchor=\"middle\" x=\"611.856\" y=\"-20.8\" font-family=\"Times,serif\" font-size=\"14.00\">samples = 133</text>\n",
       "<text text-anchor=\"middle\" x=\"611.856\" y=\"-6.8\" font-family=\"Times,serif\" font-size=\"14.00\">value = 20.465</text>\n",
       "</g>\n",
       "<!-- 9&#45;&gt;11 -->\n",
       "<g id=\"edge11\" class=\"edge\"><title>9&#45;&gt;11</title>\n",
       "<path fill=\"none\" stroke=\"black\" d=\"M572.996,-85.9375C578.704,-77.133 584.934,-67.5239 590.701,-58.6297\"/>\n",
       "<polygon fill=\"black\" stroke=\"black\" points=\"593.773,-60.3249 596.277,-50.0301 587.9,-56.5168 593.773,-60.3249\"/>\n",
       "</g>\n",
       "<!-- 13 -->\n",
       "<g id=\"node14\" class=\"node\"><title>13</title>\n",
       "<polygon fill=\"#e58139\" fill-opacity=\"0.141176\" stroke=\"black\" points=\"779.57,-50 680.143,-50 680.143,-0 779.57,-0 779.57,-50\"/>\n",
       "<text text-anchor=\"middle\" x=\"729.856\" y=\"-34.8\" font-family=\"Times,serif\" font-size=\"14.00\">mse = 13.997</text>\n",
       "<text text-anchor=\"middle\" x=\"729.856\" y=\"-20.8\" font-family=\"Times,serif\" font-size=\"14.00\">samples = 44</text>\n",
       "<text text-anchor=\"middle\" x=\"729.856\" y=\"-6.8\" font-family=\"Times,serif\" font-size=\"14.00\">value = 17.775</text>\n",
       "</g>\n",
       "<!-- 12&#45;&gt;13 -->\n",
       "<g id=\"edge13\" class=\"edge\"><title>12&#45;&gt;13</title>\n",
       "<path fill=\"none\" stroke=\"black\" d=\"M729.856,-85.9375C729.856,-77.6833 729.856,-68.7219 729.856,-60.3053\"/>\n",
       "<polygon fill=\"black\" stroke=\"black\" points=\"733.357,-60.03 729.856,-50.0301 726.357,-60.0301 733.357,-60.03\"/>\n",
       "</g>\n",
       "<!-- 14 -->\n",
       "<g id=\"node15\" class=\"node\"><title>14</title>\n",
       "<polygon fill=\"none\" stroke=\"black\" points=\"897.57,-50 798.143,-50 798.143,-0 897.57,-0 897.57,-50\"/>\n",
       "<text text-anchor=\"middle\" x=\"847.856\" y=\"-34.8\" font-family=\"Times,serif\" font-size=\"14.00\">mse = 12.182</text>\n",
       "<text text-anchor=\"middle\" x=\"847.856\" y=\"-20.8\" font-family=\"Times,serif\" font-size=\"14.00\">samples = 85</text>\n",
       "<text text-anchor=\"middle\" x=\"847.856\" y=\"-6.8\" font-family=\"Times,serif\" font-size=\"14.00\">value = 12.422</text>\n",
       "</g>\n",
       "<!-- 12&#45;&gt;14 -->\n",
       "<g id=\"edge14\" class=\"edge\"><title>12&#45;&gt;14</title>\n",
       "<path fill=\"none\" stroke=\"black\" d=\"M770.135,-85.9375C782.622,-76.3076 796.358,-65.7151 808.763,-56.1483\"/>\n",
       "<polygon fill=\"black\" stroke=\"black\" points=\"810.915,-58.9085 816.697,-50.0301 806.64,-53.3654 810.915,-58.9085\"/>\n",
       "</g>\n",
       "</g>\n",
       "</svg>\n"
      ],
      "text/plain": [
       "<graphviz.files.Source at 0x1a1aea89e8>"
      ]
     },
     "execution_count": 147,
     "metadata": {},
     "output_type": "execute_result"
    }
   ],
   "source": [
    "graph2 = graphviz.Source(g2)\n",
    "graph2"
   ]
  },
  {
   "cell_type": "markdown",
   "metadata": {},
   "source": [
    "## Prediction"
   ]
  },
  {
   "cell_type": "code",
   "execution_count": 148,
   "metadata": {},
   "outputs": [
    {
     "name": "stdout",
     "output_type": "stream",
     "text": [
      "Actual Price: [23.1 20.  12.6 22.7 25.3]\n",
      "\n",
      "Predicted Price: [26.71428571 20.46466165 12.42235294 20.46466165 26.71428571]\n",
      "\n",
      "Difference: [ 3.61428571  0.46466165 -0.17764706 -2.23533835  1.41428571]\n"
     ]
    }
   ],
   "source": [
    "predict = reg2.predict(x_test) \n",
    "print(\"Actual Price:\", y_test[:5]) \n",
    "print()\n",
    "print(\"Predicted Price:\", predict[:5])\n",
    "interval = np.subtract(predict, y_test) \n",
    "print()\n",
    "print(\"Difference:\", interval[:5])"
   ]
  },
  {
   "cell_type": "markdown",
   "metadata": {},
   "source": [
    "### R square"
   ]
  },
  {
   "cell_type": "code",
   "execution_count": 153,
   "metadata": {},
   "outputs": [
    {
     "name": "stdout",
     "output_type": "stream",
     "text": [
      "r2 score: 0.8026471880061703\n"
     ]
    }
   ],
   "source": [
    "# Training\n",
    "R2_training = r2_score(y_train, reg2.predict(x_train)) \n",
    "print(\"r2 score:\", R2_training)"
   ]
  },
  {
   "cell_type": "code",
   "execution_count": 154,
   "metadata": {},
   "outputs": [
    {
     "name": "stdout",
     "output_type": "stream",
     "text": [
      "r2 score: 0.8423644079430607\n"
     ]
    }
   ],
   "source": [
    "# Testing \n",
    "R2_testing = r2_score(y_test, reg2.predict(x_test)) \n",
    "print(\"r2 score:\", R2)"
   ]
  },
  {
   "cell_type": "markdown",
   "metadata": {},
   "source": [
    "### Measure the importance of every feature"
   ]
  },
  {
   "cell_type": "code",
   "execution_count": 94,
   "metadata": {},
   "outputs": [
    {
     "name": "stdout",
     "output_type": "stream",
     "text": [
      "['CRIM' 'ZN' 'INDUS' 'CHAS' 'NOX' 'RM' 'AGE' 'DIS' 'RAD' 'TAX' 'PTRATIO'\n",
      " 'B' 'LSTAT']\n"
     ]
    },
    {
     "data": {
      "text/plain": [
       "array([0.02436802, 0.00195035, 0.0069382 , 0.00065952, 0.02622918,\n",
       "       0.29244341, 0.01544867, 0.06654938, 0.00149788, 0.00896696,\n",
       "       0.00752606, 0.01393326, 0.53348911])"
      ]
     },
     "execution_count": 94,
     "metadata": {},
     "output_type": "execute_result"
    }
   ],
   "source": [
    "print(boston[\"feature_names\"])\n",
    "reg1.feature_importances_"
   ]
  },
  {
   "cell_type": "markdown",
   "metadata": {},
   "source": [
    "### export the decision tree picture to pdf file"
   ]
  },
  {
   "cell_type": "code",
   "execution_count": 156,
   "metadata": {},
   "outputs": [
    {
     "data": {
      "text/plain": [
       "'boston.pdf'"
      ]
     },
     "execution_count": 156,
     "metadata": {},
     "output_type": "execute_result"
    }
   ],
   "source": [
    "graph2.render(\"boston\") # export the picture to pdf "
   ]
  },
  {
   "cell_type": "code",
   "execution_count": 157,
   "metadata": {},
   "outputs": [
    {
     "name": "stdout",
     "output_type": "stream",
     "text": [
      "Boston_Regression.ipynb  boston                   house.png\r\n",
      "R2.png                   boston.pdf               house2.png\r\n"
     ]
    }
   ],
   "source": [
    "ls"
   ]
  },
  {
   "cell_type": "code",
   "execution_count": null,
   "metadata": {},
   "outputs": [],
   "source": []
  },
  {
   "cell_type": "code",
   "execution_count": null,
   "metadata": {},
   "outputs": [],
   "source": []
  },
  {
   "cell_type": "code",
   "execution_count": null,
   "metadata": {},
   "outputs": [],
   "source": []
  },
  {
   "cell_type": "code",
   "execution_count": null,
   "metadata": {},
   "outputs": [],
   "source": []
  }
 ],
 "metadata": {
  "kernelspec": {
   "display_name": "Python 3",
   "language": "python",
   "name": "python3"
  },
  "language_info": {
   "codemirror_mode": {
    "name": "ipython",
    "version": 3
   },
   "file_extension": ".py",
   "mimetype": "text/x-python",
   "name": "python",
   "nbconvert_exporter": "python",
   "pygments_lexer": "ipython3",
   "version": "3.6.4"
  }
 },
 "nbformat": 4,
 "nbformat_minor": 2
}
