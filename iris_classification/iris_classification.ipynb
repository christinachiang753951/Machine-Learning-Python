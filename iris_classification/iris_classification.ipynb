{
 "cells": [
  {
   "cell_type": "markdown",
   "metadata": {},
   "source": [
    "## The iris dataset is a classic and very easy multi-class classification dataset."
   ]
  },
  {
   "cell_type": "markdown",
   "metadata": {},
   "source": [
    "https://scikit-learn.org/stable/modules/generated/sklearn.datasets.load_iris.html#sklearn.datasets.load_iris"
   ]
  },
  {
   "cell_type": "markdown",
   "metadata": {},
   "source": [
    "![](iris.png)\n",
    "\n",
    "source: https://www.w3resource.com/machine-learning/scikit-learn/iris/index.php"
   ]
  },
  {
   "cell_type": "code",
   "execution_count": 136,
   "metadata": {},
   "outputs": [],
   "source": [
    "# print all the outputs in a cell\n",
    "from IPython.core.interactiveshell import InteractiveShell\n",
    "InteractiveShell.ast_node_interactivity = \"all\""
   ]
  },
  {
   "cell_type": "code",
   "execution_count": 33,
   "metadata": {},
   "outputs": [],
   "source": [
    "import pandas as pd\n",
    "import matplotlib.pyplot as plt \n",
    "import seaborn as sns \n",
    "%matplotlib inline"
   ]
  },
  {
   "cell_type": "markdown",
   "metadata": {},
   "source": [
    "###  Loading the Iris dataset from Scikit-learn"
   ]
  },
  {
   "cell_type": "code",
   "execution_count": 34,
   "metadata": {},
   "outputs": [],
   "source": [
    "# import load_iris function from scikit-learn datasets module\n",
    "from sklearn.datasets import load_iris "
   ]
  },
  {
   "cell_type": "markdown",
   "metadata": {},
   "source": [
    "# explore the data"
   ]
  },
  {
   "cell_type": "code",
   "execution_count": 35,
   "metadata": {},
   "outputs": [],
   "source": [
    "iris = load_iris()"
   ]
  },
  {
   "cell_type": "code",
   "execution_count": 36,
   "metadata": {
    "scrolled": true
   },
   "outputs": [
    {
     "data": {
      "text/plain": [
       "sklearn.utils.Bunch"
      ]
     },
     "execution_count": 36,
     "metadata": {},
     "output_type": "execute_result"
    }
   ],
   "source": [
    "type(iris)"
   ]
  },
  {
   "cell_type": "code",
   "execution_count": 37,
   "metadata": {},
   "outputs": [
    {
     "data": {
      "text/plain": [
       "{'DESCR': 'Iris Plants Database\\n====================\\n\\nNotes\\n-----\\nData Set Characteristics:\\n    :Number of Instances: 150 (50 in each of three classes)\\n    :Number of Attributes: 4 numeric, predictive attributes and the class\\n    :Attribute Information:\\n        - sepal length in cm\\n        - sepal width in cm\\n        - petal length in cm\\n        - petal width in cm\\n        - class:\\n                - Iris-Setosa\\n                - Iris-Versicolour\\n                - Iris-Virginica\\n    :Summary Statistics:\\n\\n    ============== ==== ==== ======= ===== ====================\\n                    Min  Max   Mean    SD   Class Correlation\\n    ============== ==== ==== ======= ===== ====================\\n    sepal length:   4.3  7.9   5.84   0.83    0.7826\\n    sepal width:    2.0  4.4   3.05   0.43   -0.4194\\n    petal length:   1.0  6.9   3.76   1.76    0.9490  (high!)\\n    petal width:    0.1  2.5   1.20  0.76     0.9565  (high!)\\n    ============== ==== ==== ======= ===== ====================\\n\\n    :Missing Attribute Values: None\\n    :Class Distribution: 33.3% for each of 3 classes.\\n    :Creator: R.A. Fisher\\n    :Donor: Michael Marshall (MARSHALL%PLU@io.arc.nasa.gov)\\n    :Date: July, 1988\\n\\nThis is a copy of UCI ML iris datasets.\\nhttp://archive.ics.uci.edu/ml/datasets/Iris\\n\\nThe famous Iris database, first used by Sir R.A Fisher\\n\\nThis is perhaps the best known database to be found in the\\npattern recognition literature.  Fisher\\'s paper is a classic in the field and\\nis referenced frequently to this day.  (See Duda & Hart, for example.)  The\\ndata set contains 3 classes of 50 instances each, where each class refers to a\\ntype of iris plant.  One class is linearly separable from the other 2; the\\nlatter are NOT linearly separable from each other.\\n\\nReferences\\n----------\\n   - Fisher,R.A. \"The use of multiple measurements in taxonomic problems\"\\n     Annual Eugenics, 7, Part II, 179-188 (1936); also in \"Contributions to\\n     Mathematical Statistics\" (John Wiley, NY, 1950).\\n   - Duda,R.O., & Hart,P.E. (1973) Pattern Classification and Scene Analysis.\\n     (Q327.D83) John Wiley & Sons.  ISBN 0-471-22361-1.  See page 218.\\n   - Dasarathy, B.V. (1980) \"Nosing Around the Neighborhood: A New System\\n     Structure and Classification Rule for Recognition in Partially Exposed\\n     Environments\".  IEEE Transactions on Pattern Analysis and Machine\\n     Intelligence, Vol. PAMI-2, No. 1, 67-71.\\n   - Gates, G.W. (1972) \"The Reduced Nearest Neighbor Rule\".  IEEE Transactions\\n     on Information Theory, May 1972, 431-433.\\n   - See also: 1988 MLC Proceedings, 54-64.  Cheeseman et al\"s AUTOCLASS II\\n     conceptual clustering system finds 3 classes in the data.\\n   - Many, many more ...\\n',\n",
       " 'data': array([[5.1, 3.5, 1.4, 0.2],\n",
       "        [4.9, 3. , 1.4, 0.2],\n",
       "        [4.7, 3.2, 1.3, 0.2],\n",
       "        [4.6, 3.1, 1.5, 0.2],\n",
       "        [5. , 3.6, 1.4, 0.2],\n",
       "        [5.4, 3.9, 1.7, 0.4],\n",
       "        [4.6, 3.4, 1.4, 0.3],\n",
       "        [5. , 3.4, 1.5, 0.2],\n",
       "        [4.4, 2.9, 1.4, 0.2],\n",
       "        [4.9, 3.1, 1.5, 0.1],\n",
       "        [5.4, 3.7, 1.5, 0.2],\n",
       "        [4.8, 3.4, 1.6, 0.2],\n",
       "        [4.8, 3. , 1.4, 0.1],\n",
       "        [4.3, 3. , 1.1, 0.1],\n",
       "        [5.8, 4. , 1.2, 0.2],\n",
       "        [5.7, 4.4, 1.5, 0.4],\n",
       "        [5.4, 3.9, 1.3, 0.4],\n",
       "        [5.1, 3.5, 1.4, 0.3],\n",
       "        [5.7, 3.8, 1.7, 0.3],\n",
       "        [5.1, 3.8, 1.5, 0.3],\n",
       "        [5.4, 3.4, 1.7, 0.2],\n",
       "        [5.1, 3.7, 1.5, 0.4],\n",
       "        [4.6, 3.6, 1. , 0.2],\n",
       "        [5.1, 3.3, 1.7, 0.5],\n",
       "        [4.8, 3.4, 1.9, 0.2],\n",
       "        [5. , 3. , 1.6, 0.2],\n",
       "        [5. , 3.4, 1.6, 0.4],\n",
       "        [5.2, 3.5, 1.5, 0.2],\n",
       "        [5.2, 3.4, 1.4, 0.2],\n",
       "        [4.7, 3.2, 1.6, 0.2],\n",
       "        [4.8, 3.1, 1.6, 0.2],\n",
       "        [5.4, 3.4, 1.5, 0.4],\n",
       "        [5.2, 4.1, 1.5, 0.1],\n",
       "        [5.5, 4.2, 1.4, 0.2],\n",
       "        [4.9, 3.1, 1.5, 0.1],\n",
       "        [5. , 3.2, 1.2, 0.2],\n",
       "        [5.5, 3.5, 1.3, 0.2],\n",
       "        [4.9, 3.1, 1.5, 0.1],\n",
       "        [4.4, 3. , 1.3, 0.2],\n",
       "        [5.1, 3.4, 1.5, 0.2],\n",
       "        [5. , 3.5, 1.3, 0.3],\n",
       "        [4.5, 2.3, 1.3, 0.3],\n",
       "        [4.4, 3.2, 1.3, 0.2],\n",
       "        [5. , 3.5, 1.6, 0.6],\n",
       "        [5.1, 3.8, 1.9, 0.4],\n",
       "        [4.8, 3. , 1.4, 0.3],\n",
       "        [5.1, 3.8, 1.6, 0.2],\n",
       "        [4.6, 3.2, 1.4, 0.2],\n",
       "        [5.3, 3.7, 1.5, 0.2],\n",
       "        [5. , 3.3, 1.4, 0.2],\n",
       "        [7. , 3.2, 4.7, 1.4],\n",
       "        [6.4, 3.2, 4.5, 1.5],\n",
       "        [6.9, 3.1, 4.9, 1.5],\n",
       "        [5.5, 2.3, 4. , 1.3],\n",
       "        [6.5, 2.8, 4.6, 1.5],\n",
       "        [5.7, 2.8, 4.5, 1.3],\n",
       "        [6.3, 3.3, 4.7, 1.6],\n",
       "        [4.9, 2.4, 3.3, 1. ],\n",
       "        [6.6, 2.9, 4.6, 1.3],\n",
       "        [5.2, 2.7, 3.9, 1.4],\n",
       "        [5. , 2. , 3.5, 1. ],\n",
       "        [5.9, 3. , 4.2, 1.5],\n",
       "        [6. , 2.2, 4. , 1. ],\n",
       "        [6.1, 2.9, 4.7, 1.4],\n",
       "        [5.6, 2.9, 3.6, 1.3],\n",
       "        [6.7, 3.1, 4.4, 1.4],\n",
       "        [5.6, 3. , 4.5, 1.5],\n",
       "        [5.8, 2.7, 4.1, 1. ],\n",
       "        [6.2, 2.2, 4.5, 1.5],\n",
       "        [5.6, 2.5, 3.9, 1.1],\n",
       "        [5.9, 3.2, 4.8, 1.8],\n",
       "        [6.1, 2.8, 4. , 1.3],\n",
       "        [6.3, 2.5, 4.9, 1.5],\n",
       "        [6.1, 2.8, 4.7, 1.2],\n",
       "        [6.4, 2.9, 4.3, 1.3],\n",
       "        [6.6, 3. , 4.4, 1.4],\n",
       "        [6.8, 2.8, 4.8, 1.4],\n",
       "        [6.7, 3. , 5. , 1.7],\n",
       "        [6. , 2.9, 4.5, 1.5],\n",
       "        [5.7, 2.6, 3.5, 1. ],\n",
       "        [5.5, 2.4, 3.8, 1.1],\n",
       "        [5.5, 2.4, 3.7, 1. ],\n",
       "        [5.8, 2.7, 3.9, 1.2],\n",
       "        [6. , 2.7, 5.1, 1.6],\n",
       "        [5.4, 3. , 4.5, 1.5],\n",
       "        [6. , 3.4, 4.5, 1.6],\n",
       "        [6.7, 3.1, 4.7, 1.5],\n",
       "        [6.3, 2.3, 4.4, 1.3],\n",
       "        [5.6, 3. , 4.1, 1.3],\n",
       "        [5.5, 2.5, 4. , 1.3],\n",
       "        [5.5, 2.6, 4.4, 1.2],\n",
       "        [6.1, 3. , 4.6, 1.4],\n",
       "        [5.8, 2.6, 4. , 1.2],\n",
       "        [5. , 2.3, 3.3, 1. ],\n",
       "        [5.6, 2.7, 4.2, 1.3],\n",
       "        [5.7, 3. , 4.2, 1.2],\n",
       "        [5.7, 2.9, 4.2, 1.3],\n",
       "        [6.2, 2.9, 4.3, 1.3],\n",
       "        [5.1, 2.5, 3. , 1.1],\n",
       "        [5.7, 2.8, 4.1, 1.3],\n",
       "        [6.3, 3.3, 6. , 2.5],\n",
       "        [5.8, 2.7, 5.1, 1.9],\n",
       "        [7.1, 3. , 5.9, 2.1],\n",
       "        [6.3, 2.9, 5.6, 1.8],\n",
       "        [6.5, 3. , 5.8, 2.2],\n",
       "        [7.6, 3. , 6.6, 2.1],\n",
       "        [4.9, 2.5, 4.5, 1.7],\n",
       "        [7.3, 2.9, 6.3, 1.8],\n",
       "        [6.7, 2.5, 5.8, 1.8],\n",
       "        [7.2, 3.6, 6.1, 2.5],\n",
       "        [6.5, 3.2, 5.1, 2. ],\n",
       "        [6.4, 2.7, 5.3, 1.9],\n",
       "        [6.8, 3. , 5.5, 2.1],\n",
       "        [5.7, 2.5, 5. , 2. ],\n",
       "        [5.8, 2.8, 5.1, 2.4],\n",
       "        [6.4, 3.2, 5.3, 2.3],\n",
       "        [6.5, 3. , 5.5, 1.8],\n",
       "        [7.7, 3.8, 6.7, 2.2],\n",
       "        [7.7, 2.6, 6.9, 2.3],\n",
       "        [6. , 2.2, 5. , 1.5],\n",
       "        [6.9, 3.2, 5.7, 2.3],\n",
       "        [5.6, 2.8, 4.9, 2. ],\n",
       "        [7.7, 2.8, 6.7, 2. ],\n",
       "        [6.3, 2.7, 4.9, 1.8],\n",
       "        [6.7, 3.3, 5.7, 2.1],\n",
       "        [7.2, 3.2, 6. , 1.8],\n",
       "        [6.2, 2.8, 4.8, 1.8],\n",
       "        [6.1, 3. , 4.9, 1.8],\n",
       "        [6.4, 2.8, 5.6, 2.1],\n",
       "        [7.2, 3. , 5.8, 1.6],\n",
       "        [7.4, 2.8, 6.1, 1.9],\n",
       "        [7.9, 3.8, 6.4, 2. ],\n",
       "        [6.4, 2.8, 5.6, 2.2],\n",
       "        [6.3, 2.8, 5.1, 1.5],\n",
       "        [6.1, 2.6, 5.6, 1.4],\n",
       "        [7.7, 3. , 6.1, 2.3],\n",
       "        [6.3, 3.4, 5.6, 2.4],\n",
       "        [6.4, 3.1, 5.5, 1.8],\n",
       "        [6. , 3. , 4.8, 1.8],\n",
       "        [6.9, 3.1, 5.4, 2.1],\n",
       "        [6.7, 3.1, 5.6, 2.4],\n",
       "        [6.9, 3.1, 5.1, 2.3],\n",
       "        [5.8, 2.7, 5.1, 1.9],\n",
       "        [6.8, 3.2, 5.9, 2.3],\n",
       "        [6.7, 3.3, 5.7, 2.5],\n",
       "        [6.7, 3. , 5.2, 2.3],\n",
       "        [6.3, 2.5, 5. , 1.9],\n",
       "        [6.5, 3. , 5.2, 2. ],\n",
       "        [6.2, 3.4, 5.4, 2.3],\n",
       "        [5.9, 3. , 5.1, 1.8]]),\n",
       " 'feature_names': ['sepal length (cm)',\n",
       "  'sepal width (cm)',\n",
       "  'petal length (cm)',\n",
       "  'petal width (cm)'],\n",
       " 'target': array([0, 0, 0, 0, 0, 0, 0, 0, 0, 0, 0, 0, 0, 0, 0, 0, 0, 0, 0, 0, 0, 0,\n",
       "        0, 0, 0, 0, 0, 0, 0, 0, 0, 0, 0, 0, 0, 0, 0, 0, 0, 0, 0, 0, 0, 0,\n",
       "        0, 0, 0, 0, 0, 0, 1, 1, 1, 1, 1, 1, 1, 1, 1, 1, 1, 1, 1, 1, 1, 1,\n",
       "        1, 1, 1, 1, 1, 1, 1, 1, 1, 1, 1, 1, 1, 1, 1, 1, 1, 1, 1, 1, 1, 1,\n",
       "        1, 1, 1, 1, 1, 1, 1, 1, 1, 1, 1, 1, 2, 2, 2, 2, 2, 2, 2, 2, 2, 2,\n",
       "        2, 2, 2, 2, 2, 2, 2, 2, 2, 2, 2, 2, 2, 2, 2, 2, 2, 2, 2, 2, 2, 2,\n",
       "        2, 2, 2, 2, 2, 2, 2, 2, 2, 2, 2, 2, 2, 2, 2, 2, 2, 2]),\n",
       " 'target_names': array(['setosa', 'versicolor', 'virginica'], dtype='<U10')}"
      ]
     },
     "execution_count": 37,
     "metadata": {},
     "output_type": "execute_result"
    }
   ],
   "source": [
    "iris # iris is a dictionary-like object"
   ]
  },
  {
   "cell_type": "markdown",
   "metadata": {},
   "source": [
    "### explore the attributes:\n",
    "- 'data': the data to learn\n",
    "- 'feature_names': the meaning of the features\n",
    "- 'target':the classification labels\n",
    "- 'target_names': the meaning of the labels\n",
    "- 'DESCR': the full description of the dataset\n",
    "- 'filename':the physical location of iris csv dataset (added in version 0.20)."
   ]
  },
  {
   "cell_type": "code",
   "execution_count": 38,
   "metadata": {},
   "outputs": [
    {
     "data": {
      "text/plain": [
       "numpy.ndarray"
      ]
     },
     "execution_count": 38,
     "metadata": {},
     "output_type": "execute_result"
    }
   ],
   "source": [
    "type(iris[\"data\"]) "
   ]
  },
  {
   "cell_type": "code",
   "execution_count": 39,
   "metadata": {},
   "outputs": [
    {
     "data": {
      "text/plain": [
       "(150, 4)"
      ]
     },
     "execution_count": 39,
     "metadata": {},
     "output_type": "execute_result"
    }
   ],
   "source": [
    "iris[\"data\"].shape #  150 observations, 4 columns"
   ]
  },
  {
   "cell_type": "code",
   "execution_count": 40,
   "metadata": {
    "scrolled": true
   },
   "outputs": [
    {
     "name": "stdout",
     "output_type": "stream",
     "text": [
      "['sepal length (cm)', 'sepal width (cm)', 'petal length (cm)', 'petal width (cm)']\n"
     ]
    }
   ],
   "source": [
    "# print the names of the four features\n",
    "print(iris[\"feature_names\"])"
   ]
  },
  {
   "cell_type": "code",
   "execution_count": 41,
   "metadata": {},
   "outputs": [
    {
     "name": "stdout",
     "output_type": "stream",
     "text": [
      "[0 0 0 0 0 0 0 0 0 0 0 0 0 0 0 0 0 0 0 0 0 0 0 0 0 0 0 0 0 0 0 0 0 0 0 0 0\n",
      " 0 0 0 0 0 0 0 0 0 0 0 0 0 1 1 1 1 1 1 1 1 1 1 1 1 1 1 1 1 1 1 1 1 1 1 1 1\n",
      " 1 1 1 1 1 1 1 1 1 1 1 1 1 1 1 1 1 1 1 1 1 1 1 1 1 1 2 2 2 2 2 2 2 2 2 2 2\n",
      " 2 2 2 2 2 2 2 2 2 2 2 2 2 2 2 2 2 2 2 2 2 2 2 2 2 2 2 2 2 2 2 2 2 2 2 2 2\n",
      " 2 2]\n"
     ]
    }
   ],
   "source": [
    "# 0 = Setosa , 1 = Versicolor, 2 = virginica\n",
    "print (iris.target)"
   ]
  },
  {
   "cell_type": "code",
   "execution_count": 42,
   "metadata": {},
   "outputs": [
    {
     "name": "stdout",
     "output_type": "stream",
     "text": [
      "['setosa' 'versicolor' 'virginica']\n"
     ]
    }
   ],
   "source": [
    "# print the names of the three species\n",
    "print (iris.target_names)"
   ]
  },
  {
   "cell_type": "markdown",
   "metadata": {},
   "source": [
    "### Create a DataFrame"
   ]
  },
  {
   "cell_type": "code",
   "execution_count": 43,
   "metadata": {},
   "outputs": [
    {
     "data": {
      "text/html": [
       "<div>\n",
       "<style scoped>\n",
       "    .dataframe tbody tr th:only-of-type {\n",
       "        vertical-align: middle;\n",
       "    }\n",
       "\n",
       "    .dataframe tbody tr th {\n",
       "        vertical-align: top;\n",
       "    }\n",
       "\n",
       "    .dataframe thead th {\n",
       "        text-align: right;\n",
       "    }\n",
       "</style>\n",
       "<table border=\"1\" class=\"dataframe\">\n",
       "  <thead>\n",
       "    <tr style=\"text-align: right;\">\n",
       "      <th></th>\n",
       "      <th>sepal length (cm)</th>\n",
       "      <th>sepal width (cm)</th>\n",
       "      <th>petal length (cm)</th>\n",
       "      <th>petal width (cm)</th>\n",
       "    </tr>\n",
       "  </thead>\n",
       "  <tbody>\n",
       "    <tr>\n",
       "      <th>0</th>\n",
       "      <td>5.1</td>\n",
       "      <td>3.5</td>\n",
       "      <td>1.4</td>\n",
       "      <td>0.2</td>\n",
       "    </tr>\n",
       "    <tr>\n",
       "      <th>1</th>\n",
       "      <td>4.9</td>\n",
       "      <td>3.0</td>\n",
       "      <td>1.4</td>\n",
       "      <td>0.2</td>\n",
       "    </tr>\n",
       "    <tr>\n",
       "      <th>2</th>\n",
       "      <td>4.7</td>\n",
       "      <td>3.2</td>\n",
       "      <td>1.3</td>\n",
       "      <td>0.2</td>\n",
       "    </tr>\n",
       "    <tr>\n",
       "      <th>3</th>\n",
       "      <td>4.6</td>\n",
       "      <td>3.1</td>\n",
       "      <td>1.5</td>\n",
       "      <td>0.2</td>\n",
       "    </tr>\n",
       "    <tr>\n",
       "      <th>4</th>\n",
       "      <td>5.0</td>\n",
       "      <td>3.6</td>\n",
       "      <td>1.4</td>\n",
       "      <td>0.2</td>\n",
       "    </tr>\n",
       "  </tbody>\n",
       "</table>\n",
       "</div>"
      ],
      "text/plain": [
       "   sepal length (cm)  sepal width (cm)  petal length (cm)  petal width (cm)\n",
       "0                5.1               3.5                1.4               0.2\n",
       "1                4.9               3.0                1.4               0.2\n",
       "2                4.7               3.2                1.3               0.2\n",
       "3                4.6               3.1                1.5               0.2\n",
       "4                5.0               3.6                1.4               0.2"
      ]
     },
     "execution_count": 43,
     "metadata": {},
     "output_type": "execute_result"
    }
   ],
   "source": [
    "df = pd.DataFrame(data = iris[\"data\"], columns=iris[\"feature_names\"])\n",
    "df.head()"
   ]
  },
  {
   "cell_type": "code",
   "execution_count": 44,
   "metadata": {
    "scrolled": true
   },
   "outputs": [
    {
     "data": {
      "text/html": [
       "<div>\n",
       "<style scoped>\n",
       "    .dataframe tbody tr th:only-of-type {\n",
       "        vertical-align: middle;\n",
       "    }\n",
       "\n",
       "    .dataframe tbody tr th {\n",
       "        vertical-align: top;\n",
       "    }\n",
       "\n",
       "    .dataframe thead th {\n",
       "        text-align: right;\n",
       "    }\n",
       "</style>\n",
       "<table border=\"1\" class=\"dataframe\">\n",
       "  <thead>\n",
       "    <tr style=\"text-align: right;\">\n",
       "      <th></th>\n",
       "      <th>sepal length (cm)</th>\n",
       "      <th>sepal width (cm)</th>\n",
       "      <th>petal length (cm)</th>\n",
       "      <th>petal width (cm)</th>\n",
       "      <th>target</th>\n",
       "    </tr>\n",
       "  </thead>\n",
       "  <tbody>\n",
       "    <tr>\n",
       "      <th>0</th>\n",
       "      <td>5.1</td>\n",
       "      <td>3.5</td>\n",
       "      <td>1.4</td>\n",
       "      <td>0.2</td>\n",
       "      <td>0</td>\n",
       "    </tr>\n",
       "    <tr>\n",
       "      <th>1</th>\n",
       "      <td>4.9</td>\n",
       "      <td>3.0</td>\n",
       "      <td>1.4</td>\n",
       "      <td>0.2</td>\n",
       "      <td>0</td>\n",
       "    </tr>\n",
       "    <tr>\n",
       "      <th>2</th>\n",
       "      <td>4.7</td>\n",
       "      <td>3.2</td>\n",
       "      <td>1.3</td>\n",
       "      <td>0.2</td>\n",
       "      <td>0</td>\n",
       "    </tr>\n",
       "    <tr>\n",
       "      <th>3</th>\n",
       "      <td>4.6</td>\n",
       "      <td>3.1</td>\n",
       "      <td>1.5</td>\n",
       "      <td>0.2</td>\n",
       "      <td>0</td>\n",
       "    </tr>\n",
       "    <tr>\n",
       "      <th>4</th>\n",
       "      <td>5.0</td>\n",
       "      <td>3.6</td>\n",
       "      <td>1.4</td>\n",
       "      <td>0.2</td>\n",
       "      <td>0</td>\n",
       "    </tr>\n",
       "  </tbody>\n",
       "</table>\n",
       "</div>"
      ],
      "text/plain": [
       "   sepal length (cm)  sepal width (cm)  petal length (cm)  petal width (cm)  \\\n",
       "0                5.1               3.5                1.4               0.2   \n",
       "1                4.9               3.0                1.4               0.2   \n",
       "2                4.7               3.2                1.3               0.2   \n",
       "3                4.6               3.1                1.5               0.2   \n",
       "4                5.0               3.6                1.4               0.2   \n",
       "\n",
       "   target  \n",
       "0       0  \n",
       "1       0  \n",
       "2       0  \n",
       "3       0  \n",
       "4       0  "
      ]
     },
     "execution_count": 44,
     "metadata": {},
     "output_type": "execute_result"
    }
   ],
   "source": [
    "df[\"target\"] = iris[\"target\"] # add the feature \"target\" as a new column\n",
    "df.head()"
   ]
  },
  {
   "cell_type": "markdown",
   "metadata": {},
   "source": [
    "### Explore the Correlation of Features\n",
    "\n",
    "There are different color provided: \n",
    "https://matplotlib.org/2.0.2/examples/color/colormaps_reference.html"
   ]
  },
  {
   "cell_type": "code",
   "execution_count": 45,
   "metadata": {},
   "outputs": [
    {
     "data": {
      "text/plain": [
       "<matplotlib.axes._subplots.AxesSubplot at 0x1a213e9208>"
      ]
     },
     "execution_count": 45,
     "metadata": {},
     "output_type": "execute_result"
    },
    {
     "data": {
      "image/png": "[encoded data removed]",
      "text/plain": [
       "<matplotlib.figure.Figure at 0x1a213e9198>"
      ]
     },
     "metadata": {},
     "output_type": "display_data"
    }
   ],
   "source": [
    "plt.figure(figsize=(14,10))\n",
    "plt.title('Correlation of Features', y=1.05, size=15)\n",
    "sns.heatmap(df.astype(float).corr(), cmap = \"Spectral\",\n",
    "linewidths=0.1, square=True, linecolor='white', annot=True)"
   ]
  },
  {
   "cell_type": "markdown",
   "metadata": {},
   "source": [
    "<div class=\"alert alert-block alert-danger\">\n",
    "From above, we can found that the **length**and **width** of petal are closely to **perfectly positive correlation**\n",
    "</div>"
   ]
  },
  {
   "cell_type": "markdown",
   "metadata": {},
   "source": [
    "### Split the datasets to training & testing "
   ]
  },
  {
   "cell_type": "code",
   "execution_count": 46,
   "metadata": {},
   "outputs": [],
   "source": [
    "from sklearn.model_selection import train_test_split"
   ]
  },
  {
   "cell_type": "code",
   "execution_count": 47,
   "metadata": {},
   "outputs": [
    {
     "data": {
      "text/plain": [
       "[array([[4.7, 3.2, 1.6, 0.2],\n",
       "        [5.3, 3.7, 1.5, 0.2],\n",
       "        [6.1, 3. , 4.9, 1.8],\n",
       "        [5.2, 3.4, 1.4, 0.2],\n",
       "        [6.7, 3. , 5.2, 2.3],\n",
       "        [6.6, 3. , 4.4, 1.4],\n",
       "        [5. , 3.5, 1.3, 0.3],\n",
       "        [5.1, 3.5, 1.4, 0.3],\n",
       "        [5.4, 3.4, 1.7, 0.2],\n",
       "        [6.7, 3.1, 4.7, 1.5],\n",
       "        [5.1, 3.3, 1.7, 0.5],\n",
       "        [4.8, 3.1, 1.6, 0.2],\n",
       "        [5. , 3.4, 1.5, 0.2],\n",
       "        [5.5, 2.6, 4.4, 1.2],\n",
       "        [5.1, 3.8, 1.6, 0.2],\n",
       "        [5.6, 3. , 4.1, 1.3],\n",
       "        [5.7, 3. , 4.2, 1.2],\n",
       "        [5.8, 2.6, 4. , 1.2],\n",
       "        [5.7, 2.8, 4.5, 1.3],\n",
       "        [7.4, 2.8, 6.1, 1.9],\n",
       "        [4.9, 3.1, 1.5, 0.1],\n",
       "        [5.5, 2.4, 3.8, 1.1],\n",
       "        [4.4, 3.2, 1.3, 0.2],\n",
       "        [5.6, 3. , 4.5, 1.5],\n",
       "        [4.6, 3.1, 1.5, 0.2],\n",
       "        [5.7, 4.4, 1.5, 0.4],\n",
       "        [5.8, 2.7, 5.1, 1.9],\n",
       "        [5.6, 2.7, 4.2, 1.3],\n",
       "        [5. , 3.3, 1.4, 0.2],\n",
       "        [4.3, 3. , 1.1, 0.1],\n",
       "        [6. , 2.9, 4.5, 1.5],\n",
       "        [6.4, 2.7, 5.3, 1.9],\n",
       "        [6.7, 3.3, 5.7, 2.1],\n",
       "        [6.9, 3.1, 5.1, 2.3],\n",
       "        [4.6, 3.2, 1.4, 0.2],\n",
       "        [4.9, 3.1, 1.5, 0.1],\n",
       "        [4.5, 2.3, 1.3, 0.3],\n",
       "        [7.7, 2.6, 6.9, 2.3],\n",
       "        [7.2, 3. , 5.8, 1.6],\n",
       "        [6.4, 2.8, 5.6, 2.2],\n",
       "        [5. , 3.6, 1.4, 0.2],\n",
       "        [4.6, 3.4, 1.4, 0.3],\n",
       "        [5. , 3. , 1.6, 0.2],\n",
       "        [6.4, 2.8, 5.6, 2.1],\n",
       "        [5.8, 2.7, 4.1, 1. ],\n",
       "        [6. , 2.7, 5.1, 1.6],\n",
       "        [6.5, 3. , 5.8, 2.2],\n",
       "        [6.3, 2.5, 4.9, 1.5],\n",
       "        [5.8, 2.8, 5.1, 2.4],\n",
       "        [5.4, 3.7, 1.5, 0.2],\n",
       "        [7.2, 3.2, 6. , 1.8],\n",
       "        [5.5, 4.2, 1.4, 0.2],\n",
       "        [5.1, 2.5, 3. , 1.1],\n",
       "        [4.8, 3. , 1.4, 0.1],\n",
       "        [5.7, 3.8, 1.7, 0.3],\n",
       "        [5. , 3.5, 1.6, 0.6],\n",
       "        [5.6, 2.5, 3.9, 1.1],\n",
       "        [6.3, 3.3, 4.7, 1.6],\n",
       "        [5.4, 3.4, 1.5, 0.4],\n",
       "        [5.1, 3.8, 1.9, 0.4],\n",
       "        [5.7, 2.8, 4.1, 1.3],\n",
       "        [7. , 3.2, 4.7, 1.4],\n",
       "        [6. , 2.2, 4. , 1. ],\n",
       "        [6. , 3.4, 4.5, 1.6],\n",
       "        [5.7, 2.5, 5. , 2. ],\n",
       "        [4.8, 3.4, 1.9, 0.2],\n",
       "        [5.2, 3.5, 1.5, 0.2],\n",
       "        [7.7, 3.8, 6.7, 2.2],\n",
       "        [5.7, 2.6, 3.5, 1. ],\n",
       "        [5.7, 2.9, 4.2, 1.3],\n",
       "        [4.8, 3. , 1.4, 0.3],\n",
       "        [6.3, 2.7, 4.9, 1.8],\n",
       "        [5.5, 2.3, 4. , 1.3],\n",
       "        [5.8, 2.7, 5.1, 1.9],\n",
       "        [6.1, 2.8, 4.7, 1.2],\n",
       "        [6.3, 2.8, 5.1, 1.5],\n",
       "        [5.5, 3.5, 1.3, 0.2],\n",
       "        [5.2, 2.7, 3.9, 1.4],\n",
       "        [5.4, 3.9, 1.7, 0.4],\n",
       "        [5. , 3.2, 1.2, 0.2],\n",
       "        [7.9, 3.8, 6.4, 2. ],\n",
       "        [6.9, 3.1, 5.4, 2.1],\n",
       "        [6.4, 3.2, 5.3, 2.3],\n",
       "        [6.8, 3.2, 5.9, 2.3],\n",
       "        [6.4, 2.9, 4.3, 1.3],\n",
       "        [6.5, 3. , 5.5, 1.8],\n",
       "        [6.8, 2.8, 4.8, 1.4],\n",
       "        [5.2, 4.1, 1.5, 0.1],\n",
       "        [5.8, 2.7, 3.9, 1.2],\n",
       "        [6.6, 2.9, 4.6, 1.3],\n",
       "        [6.2, 2.9, 4.3, 1.3],\n",
       "        [5.9, 3.2, 4.8, 1.8],\n",
       "        [5.1, 3.5, 1.4, 0.2],\n",
       "        [4.7, 3.2, 1.3, 0.2],\n",
       "        [5.1, 3.8, 1.5, 0.3],\n",
       "        [6.1, 2.6, 5.6, 1.4],\n",
       "        [5.1, 3.7, 1.5, 0.4],\n",
       "        [6.8, 3. , 5.5, 2.1],\n",
       "        [6.3, 3.4, 5.6, 2.4],\n",
       "        [5.6, 2.8, 4.9, 2. ],\n",
       "        [6.7, 3.3, 5.7, 2.5],\n",
       "        [5.8, 4. , 1.2, 0.2],\n",
       "        [4.9, 3. , 1.4, 0.2],\n",
       "        [5. , 3.4, 1.6, 0.4],\n",
       "        [4.8, 3.4, 1.6, 0.2],\n",
       "        [7.6, 3. , 6.6, 2.1],\n",
       "        [5.9, 3. , 5.1, 1.8],\n",
       "        [5.5, 2.5, 4. , 1.3],\n",
       "        [4.4, 3. , 1.3, 0.2],\n",
       "        [6.4, 3.2, 4.5, 1.5],\n",
       "        [5. , 2.3, 3.3, 1. ],\n",
       "        [6.1, 3. , 4.6, 1.4],\n",
       "        [5.9, 3. , 4.2, 1.5],\n",
       "        [6.3, 2.3, 4.4, 1.3],\n",
       "        [7.7, 3. , 6.1, 2.3],\n",
       "        [6.2, 2.2, 4.5, 1.5],\n",
       "        [6.9, 3.1, 4.9, 1.5],\n",
       "        [6.9, 3.2, 5.7, 2.3],\n",
       "        [5.5, 2.4, 3.7, 1. ],\n",
       "        [6.7, 3.1, 4.4, 1.4],\n",
       "        [6.7, 3. , 5. , 1.7],\n",
       "        [6.3, 2.9, 5.6, 1.8],\n",
       "        [5.4, 3. , 4.5, 1.5],\n",
       "        [4.9, 3.1, 1.5, 0.1],\n",
       "        [6.1, 2.9, 4.7, 1.4],\n",
       "        [5.6, 2.9, 3.6, 1.3],\n",
       "        [6.3, 2.5, 5. , 1.9],\n",
       "        [6.5, 3.2, 5.1, 2. ],\n",
       "        [4.4, 2.9, 1.4, 0.2],\n",
       "        [6.3, 3.3, 6. , 2.5],\n",
       "        [4.9, 2.5, 4.5, 1.7],\n",
       "        [4.9, 2.4, 3.3, 1. ],\n",
       "        [6.2, 3.4, 5.4, 2.3],\n",
       "        [6.5, 3. , 5.2, 2. ],\n",
       "        [6.2, 2.8, 4.8, 1.8]]), array([[4.6, 3.6, 1. , 0.2],\n",
       "        [6.1, 2.8, 4. , 1.3],\n",
       "        [7.7, 2.8, 6.7, 2. ],\n",
       "        [6. , 3. , 4.8, 1.8],\n",
       "        [5.4, 3.9, 1.3, 0.4],\n",
       "        [5. , 2. , 3.5, 1. ],\n",
       "        [7.3, 2.9, 6.3, 1.8],\n",
       "        [5.1, 3.4, 1.5, 0.2],\n",
       "        [6. , 2.2, 5. , 1.5],\n",
       "        [7.2, 3.6, 6.1, 2.5],\n",
       "        [6.5, 2.8, 4.6, 1.5],\n",
       "        [6.7, 2.5, 5.8, 1.8],\n",
       "        [6.4, 3.1, 5.5, 1.8],\n",
       "        [7.1, 3. , 5.9, 2.1],\n",
       "        [6.7, 3.1, 5.6, 2.4]]), array([0, 0, 2, 0, 2, 1, 0, 0, 0, 1, 0, 0, 0, 1, 0, 1, 1, 1, 1, 2, 0, 1,\n",
       "        0, 1, 0, 0, 2, 1, 0, 0, 1, 2, 2, 2, 0, 0, 0, 2, 2, 2, 0, 0, 0, 2,\n",
       "        1, 1, 2, 1, 2, 0, 2, 0, 1, 0, 0, 0, 1, 1, 0, 0, 1, 1, 1, 1, 2, 0,\n",
       "        0, 2, 1, 1, 0, 2, 1, 2, 1, 2, 0, 1, 0, 0, 2, 2, 2, 2, 1, 2, 1, 0,\n",
       "        1, 1, 1, 1, 0, 0, 0, 2, 0, 2, 2, 2, 2, 0, 0, 0, 0, 2, 2, 1, 0, 1,\n",
       "        1, 1, 1, 1, 2, 1, 1, 2, 1, 1, 1, 2, 1, 0, 1, 1, 2, 2, 0, 2, 2, 1,\n",
       "        2, 2, 2]), array([0, 1, 2, 2, 0, 1, 2, 0, 2, 2, 1, 2, 2, 2, 2])]"
      ]
     },
     "execution_count": 47,
     "metadata": {},
     "output_type": "execute_result"
    }
   ],
   "source": [
    "# The ratio of training & testing is 9:1 \n",
    "train_test_split(iris[\"data\"], iris[\"target\"], test_size=0.1) \n",
    "# Return 90% training data, 10% testing data, 90% label, 10% label "
   ]
  },
  {
   "cell_type": "code",
   "execution_count": 48,
   "metadata": {},
   "outputs": [],
   "source": [
    "# Save 90% training data, 10% testing data, 90% label, 10% label to four variabels \n",
    "x_train, x_test, y_train, y_test = train_test_split(iris[\"data\"], \n",
    "                                                    iris[\"target\"], \n",
    "                                                    test_size=0.1)"
   ]
  },
  {
   "cell_type": "code",
   "execution_count": null,
   "metadata": {},
   "outputs": [],
   "source": []
  },
  {
   "cell_type": "markdown",
   "metadata": {},
   "source": [
    "### Training the model\n",
    "- Decision Tree"
   ]
  },
  {
   "cell_type": "code",
   "execution_count": 64,
   "metadata": {
    "scrolled": false
   },
   "outputs": [],
   "source": [
    "from sklearn.tree import DecisionTreeClassifier \n",
    "\n",
    "# Create a classifier called clf\n",
    "clf1 = DecisionTreeClassifier()"
   ]
  },
  {
   "cell_type": "code",
   "execution_count": 65,
   "metadata": {
    "scrolled": true
   },
   "outputs": [
    {
     "data": {
      "text/plain": [
       "DecisionTreeClassifier(class_weight=None, criterion='gini', max_depth=None,\n",
       "            max_features=None, max_leaf_nodes=None,\n",
       "            min_impurity_decrease=0.0, min_impurity_split=None,\n",
       "            min_samples_leaf=1, min_samples_split=2,\n",
       "            min_weight_fraction_leaf=0.0, presort=False, random_state=None,\n",
       "            splitter='best')"
      ]
     },
     "execution_count": 65,
     "metadata": {},
     "output_type": "execute_result"
    }
   ],
   "source": [
    "# Train model: Using training data & corresponding labels\n",
    "clf1.fit(x_train, y_train)"
   ]
  },
  {
   "cell_type": "markdown",
   "metadata": {},
   "source": [
    "### Plot the decision tree: using graphviz\n",
    "We need to install this third-party libraries first<br> \n",
    "How To Install graphviz on Mac with Brew? \n",
    "- Launch Terminal\n",
    "- type \"brew install graphviz\""
   ]
  },
  {
   "cell_type": "code",
   "execution_count": 69,
   "metadata": {},
   "outputs": [],
   "source": [
    "import graphviz\n",
    "from sklearn.tree import export_graphviz"
   ]
  },
  {
   "cell_type": "code",
   "execution_count": 71,
   "metadata": {},
   "outputs": [],
   "source": [
    "# Remeber add the parameter:  out_file = None, otherwise it will cause error\n",
    "g1 = export_graphviz(clf1, feature_names=iris[\"feature_names\"],\n",
    "                    class_names=iris[\"target_names\"], filled = True, out_file = None) "
   ]
  },
  {
   "cell_type": "code",
   "execution_count": 72,
   "metadata": {
    "scrolled": true
   },
   "outputs": [
    {
     "data": {
      "image/svg+xml": [
       "<?xml version=\"1.0\" encoding=\"UTF-8\" standalone=\"no\"?>\n",
       "<!DOCTYPE svg PUBLIC \"-//W3C//DTD SVG 1.1//EN\"\n",
       " \"http://www.w3.org/Graphics/SVG/1.1/DTD/svg11.dtd\">\n",
       "<!-- Generated by graphviz version 2.38.0 (20140413.2041)\n",
       " -->\n",
       "<!-- Title: Tree Pages: 1 -->\n",
       "<svg width=\"872pt\" height=\"642pt\"\n",
       " viewBox=\"0.00 0.00 872.31 642.00\" xmlns=\"http://www.w3.org/2000/svg\" xmlns:xlink=\"http://www.w3.org/1999/xlink\">\n",
       "<g id=\"graph0\" class=\"graph\" transform=\"scale(1 1) rotate(0) translate(4 638)\">\n",
       "<title>Tree</title>\n",
       "<polygon fill=\"white\" stroke=\"none\" points=\"-4,4 -4,-638 868.313,-638 868.313,4 -4,4\"/>\n",
       "<!-- 0 -->\n",
       "<g id=\"node1\" class=\"node\"><title>0</title>\n",
       "<polygon fill=\"#e58139\" fill-opacity=\"0.011765\" stroke=\"black\" points=\"561.963,-634 410.125,-634 410.125,-556 561.963,-556 561.963,-634\"/>\n",
       "<text text-anchor=\"middle\" x=\"486.044\" y=\"-618.8\" font-family=\"Times,serif\" font-size=\"14.00\">petal length (cm) &lt;= 2.6</text>\n",
       "<text text-anchor=\"middle\" x=\"486.044\" y=\"-604.8\" font-family=\"Times,serif\" font-size=\"14.00\">gini = 0.667</text>\n",
       "<text text-anchor=\"middle\" x=\"486.044\" y=\"-590.8\" font-family=\"Times,serif\" font-size=\"14.00\">samples = 135</text>\n",
       "<text text-anchor=\"middle\" x=\"486.044\" y=\"-576.8\" font-family=\"Times,serif\" font-size=\"14.00\">value = [46, 44, 45]</text>\n",
       "<text text-anchor=\"middle\" x=\"486.044\" y=\"-562.8\" font-family=\"Times,serif\" font-size=\"14.00\">class = setosa</text>\n",
       "</g>\n",
       "<!-- 1 -->\n",
       "<g id=\"node2\" class=\"node\"><title>1</title>\n",
       "<polygon fill=\"#e58139\" stroke=\"black\" points=\"466.082,-513 354.006,-513 354.006,-449 466.082,-449 466.082,-513\"/>\n",
       "<text text-anchor=\"middle\" x=\"410.044\" y=\"-497.8\" font-family=\"Times,serif\" font-size=\"14.00\">gini = 0.0</text>\n",
       "<text text-anchor=\"middle\" x=\"410.044\" y=\"-483.8\" font-family=\"Times,serif\" font-size=\"14.00\">samples = 46</text>\n",
       "<text text-anchor=\"middle\" x=\"410.044\" y=\"-469.8\" font-family=\"Times,serif\" font-size=\"14.00\">value = [46, 0, 0]</text>\n",
       "<text text-anchor=\"middle\" x=\"410.044\" y=\"-455.8\" font-family=\"Times,serif\" font-size=\"14.00\">class = setosa</text>\n",
       "</g>\n",
       "<!-- 0&#45;&gt;1 -->\n",
       "<g id=\"edge1\" class=\"edge\"><title>0&#45;&gt;1</title>\n",
       "<path fill=\"none\" stroke=\"black\" d=\"M460.102,-555.769C452.563,-544.66 444.318,-532.509 436.735,-521.333\"/>\n",
       "<polygon fill=\"black\" stroke=\"black\" points=\"439.598,-519.32 431.087,-513.01 433.806,-523.25 439.598,-519.32\"/>\n",
       "<text text-anchor=\"middle\" x=\"426.385\" y=\"-533.364\" font-family=\"Times,serif\" font-size=\"14.00\">True</text>\n",
       "</g>\n",
       "<!-- 2 -->\n",
       "<g id=\"node3\" class=\"node\"><title>2</title>\n",
       "<polygon fill=\"#8139e5\" fill-opacity=\"0.023529\" stroke=\"black\" points=\"639.86,-520 484.229,-520 484.229,-442 639.86,-442 639.86,-520\"/>\n",
       "<text text-anchor=\"middle\" x=\"562.044\" y=\"-504.8\" font-family=\"Times,serif\" font-size=\"14.00\">petal width (cm) &lt;= 1.75</text>\n",
       "<text text-anchor=\"middle\" x=\"562.044\" y=\"-490.8\" font-family=\"Times,serif\" font-size=\"14.00\">gini = 0.5</text>\n",
       "<text text-anchor=\"middle\" x=\"562.044\" y=\"-476.8\" font-family=\"Times,serif\" font-size=\"14.00\">samples = 89</text>\n",
       "<text text-anchor=\"middle\" x=\"562.044\" y=\"-462.8\" font-family=\"Times,serif\" font-size=\"14.00\">value = [0, 44, 45]</text>\n",
       "<text text-anchor=\"middle\" x=\"562.044\" y=\"-448.8\" font-family=\"Times,serif\" font-size=\"14.00\">class = virginica</text>\n",
       "</g>\n",
       "<!-- 0&#45;&gt;2 -->\n",
       "<g id=\"edge2\" class=\"edge\"><title>0&#45;&gt;2</title>\n",
       "<path fill=\"none\" stroke=\"black\" d=\"M511.987,-555.769C517.918,-547.029 524.286,-537.645 530.425,-528.597\"/>\n",
       "<polygon fill=\"black\" stroke=\"black\" points=\"533.5,-530.299 536.219,-520.058 527.708,-526.368 533.5,-530.299\"/>\n",
       "<text text-anchor=\"middle\" x=\"540.921\" y=\"-540.412\" font-family=\"Times,serif\" font-size=\"14.00\">False</text>\n",
       "</g>\n",
       "<!-- 3 -->\n",
       "<g id=\"node4\" class=\"node\"><title>3</title>\n",
       "<polygon fill=\"#39e581\" fill-opacity=\"0.905882\" stroke=\"black\" points=\"545.463,-406 386.625,-406 386.625,-328 545.463,-328 545.463,-406\"/>\n",
       "<text text-anchor=\"middle\" x=\"466.044\" y=\"-390.8\" font-family=\"Times,serif\" font-size=\"14.00\">petal length (cm) &lt;= 5.05</text>\n",
       "<text text-anchor=\"middle\" x=\"466.044\" y=\"-376.8\" font-family=\"Times,serif\" font-size=\"14.00\">gini = 0.156</text>\n",
       "<text text-anchor=\"middle\" x=\"466.044\" y=\"-362.8\" font-family=\"Times,serif\" font-size=\"14.00\">samples = 47</text>\n",
       "<text text-anchor=\"middle\" x=\"466.044\" y=\"-348.8\" font-family=\"Times,serif\" font-size=\"14.00\">value = [0, 43, 4]</text>\n",
       "<text text-anchor=\"middle\" x=\"466.044\" y=\"-334.8\" font-family=\"Times,serif\" font-size=\"14.00\">class = versicolor</text>\n",
       "</g>\n",
       "<!-- 2&#45;&gt;3 -->\n",
       "<g id=\"edge3\" class=\"edge\"><title>2&#45;&gt;3</title>\n",
       "<path fill=\"none\" stroke=\"black\" d=\"M529.275,-441.769C521.552,-432.759 513.242,-423.064 505.266,-413.759\"/>\n",
       "<polygon fill=\"black\" stroke=\"black\" points=\"507.831,-411.373 498.666,-406.058 502.517,-415.929 507.831,-411.373\"/>\n",
       "</g>\n",
       "<!-- 12 -->\n",
       "<g id=\"node13\" class=\"node\"><title>12</title>\n",
       "<polygon fill=\"#8139e5\" fill-opacity=\"0.976471\" stroke=\"black\" points=\"738.463,-406 579.625,-406 579.625,-328 738.463,-328 738.463,-406\"/>\n",
       "<text text-anchor=\"middle\" x=\"659.044\" y=\"-390.8\" font-family=\"Times,serif\" font-size=\"14.00\">petal length (cm) &lt;= 4.85</text>\n",
       "<text text-anchor=\"middle\" x=\"659.044\" y=\"-376.8\" font-family=\"Times,serif\" font-size=\"14.00\">gini = 0.046</text>\n",
       "<text text-anchor=\"middle\" x=\"659.044\" y=\"-362.8\" font-family=\"Times,serif\" font-size=\"14.00\">samples = 42</text>\n",
       "<text text-anchor=\"middle\" x=\"659.044\" y=\"-348.8\" font-family=\"Times,serif\" font-size=\"14.00\">value = [0, 1, 41]</text>\n",
       "<text text-anchor=\"middle\" x=\"659.044\" y=\"-334.8\" font-family=\"Times,serif\" font-size=\"14.00\">class = virginica</text>\n",
       "</g>\n",
       "<!-- 2&#45;&gt;12 -->\n",
       "<g id=\"edge12\" class=\"edge\"><title>2&#45;&gt;12</title>\n",
       "<path fill=\"none\" stroke=\"black\" d=\"M595.155,-441.769C602.959,-432.759 611.355,-423.064 619.414,-413.759\"/>\n",
       "<polygon fill=\"black\" stroke=\"black\" points=\"622.182,-415.909 626.083,-406.058 616.891,-411.326 622.182,-415.909\"/>\n",
       "</g>\n",
       "<!-- 4 -->\n",
       "<g id=\"node5\" class=\"node\"><title>4</title>\n",
       "<polygon fill=\"#39e581\" fill-opacity=\"0.976471\" stroke=\"black\" points=\"352.523,-292 191.566,-292 191.566,-214 352.523,-214 352.523,-292\"/>\n",
       "<text text-anchor=\"middle\" x=\"272.044\" y=\"-276.8\" font-family=\"Times,serif\" font-size=\"14.00\">sepal length (cm) &lt;= 4.95</text>\n",
       "<text text-anchor=\"middle\" x=\"272.044\" y=\"-262.8\" font-family=\"Times,serif\" font-size=\"14.00\">gini = 0.045</text>\n",
       "<text text-anchor=\"middle\" x=\"272.044\" y=\"-248.8\" font-family=\"Times,serif\" font-size=\"14.00\">samples = 43</text>\n",
       "<text text-anchor=\"middle\" x=\"272.044\" y=\"-234.8\" font-family=\"Times,serif\" font-size=\"14.00\">value = [0, 42, 1]</text>\n",
       "<text text-anchor=\"middle\" x=\"272.044\" y=\"-220.8\" font-family=\"Times,serif\" font-size=\"14.00\">class = versicolor</text>\n",
       "</g>\n",
       "<!-- 3&#45;&gt;4 -->\n",
       "<g id=\"edge4\" class=\"edge\"><title>3&#45;&gt;4</title>\n",
       "<path fill=\"none\" stroke=\"black\" d=\"M400.094,-327.926C383.07,-318.097 364.619,-307.445 347.165,-297.369\"/>\n",
       "<polygon fill=\"black\" stroke=\"black\" points=\"348.552,-294.128 338.142,-292.159 345.052,-300.19 348.552,-294.128\"/>\n",
       "</g>\n",
       "<!-- 9 -->\n",
       "<g id=\"node10\" class=\"node\"><title>9</title>\n",
       "<polygon fill=\"#8139e5\" fill-opacity=\"0.666667\" stroke=\"black\" points=\"546.523,-292 385.566,-292 385.566,-214 546.523,-214 546.523,-292\"/>\n",
       "<text text-anchor=\"middle\" x=\"466.044\" y=\"-276.8\" font-family=\"Times,serif\" font-size=\"14.00\">sepal length (cm) &lt;= 6.05</text>\n",
       "<text text-anchor=\"middle\" x=\"466.044\" y=\"-262.8\" font-family=\"Times,serif\" font-size=\"14.00\">gini = 0.375</text>\n",
       "<text text-anchor=\"middle\" x=\"466.044\" y=\"-248.8\" font-family=\"Times,serif\" font-size=\"14.00\">samples = 4</text>\n",
       "<text text-anchor=\"middle\" x=\"466.044\" y=\"-234.8\" font-family=\"Times,serif\" font-size=\"14.00\">value = [0, 1, 3]</text>\n",
       "<text text-anchor=\"middle\" x=\"466.044\" y=\"-220.8\" font-family=\"Times,serif\" font-size=\"14.00\">class = virginica</text>\n",
       "</g>\n",
       "<!-- 3&#45;&gt;9 -->\n",
       "<g id=\"edge9\" class=\"edge\"><title>3&#45;&gt;9</title>\n",
       "<path fill=\"none\" stroke=\"black\" d=\"M466.044,-327.769C466.044,-319.57 466.044,-310.803 466.044,-302.28\"/>\n",
       "<polygon fill=\"black\" stroke=\"black\" points=\"469.545,-302.058 466.044,-292.058 462.545,-302.059 469.545,-302.058\"/>\n",
       "</g>\n",
       "<!-- 5 -->\n",
       "<g id=\"node6\" class=\"node\"><title>5</title>\n",
       "<polygon fill=\"none\" stroke=\"black\" points=\"196.963,-178 45.1255,-178 45.1255,-100 196.963,-100 196.963,-178\"/>\n",
       "<text text-anchor=\"middle\" x=\"121.044\" y=\"-162.8\" font-family=\"Times,serif\" font-size=\"14.00\">petal length (cm) &lt;= 3.9</text>\n",
       "<text text-anchor=\"middle\" x=\"121.044\" y=\"-148.8\" font-family=\"Times,serif\" font-size=\"14.00\">gini = 0.5</text>\n",
       "<text text-anchor=\"middle\" x=\"121.044\" y=\"-134.8\" font-family=\"Times,serif\" font-size=\"14.00\">samples = 2</text>\n",
       "<text text-anchor=\"middle\" x=\"121.044\" y=\"-120.8\" font-family=\"Times,serif\" font-size=\"14.00\">value = [0, 1, 1]</text>\n",
       "<text text-anchor=\"middle\" x=\"121.044\" y=\"-106.8\" font-family=\"Times,serif\" font-size=\"14.00\">class = versicolor</text>\n",
       "</g>\n",
       "<!-- 4&#45;&gt;5 -->\n",
       "<g id=\"edge5\" class=\"edge\"><title>4&#45;&gt;5</title>\n",
       "<path fill=\"none\" stroke=\"black\" d=\"M220.501,-213.769C207.624,-204.218 193.71,-193.898 180.485,-184.089\"/>\n",
       "<polygon fill=\"black\" stroke=\"black\" points=\"182.472,-181.205 172.355,-178.058 178.302,-186.827 182.472,-181.205\"/>\n",
       "</g>\n",
       "<!-- 8 -->\n",
       "<g id=\"node9\" class=\"node\"><title>8</title>\n",
       "<polygon fill=\"#39e581\" stroke=\"black\" points=\"329.133,-171 214.956,-171 214.956,-107 329.133,-107 329.133,-171\"/>\n",
       "<text text-anchor=\"middle\" x=\"272.044\" y=\"-155.8\" font-family=\"Times,serif\" font-size=\"14.00\">gini = 0.0</text>\n",
       "<text text-anchor=\"middle\" x=\"272.044\" y=\"-141.8\" font-family=\"Times,serif\" font-size=\"14.00\">samples = 41</text>\n",
       "<text text-anchor=\"middle\" x=\"272.044\" y=\"-127.8\" font-family=\"Times,serif\" font-size=\"14.00\">value = [0, 41, 0]</text>\n",
       "<text text-anchor=\"middle\" x=\"272.044\" y=\"-113.8\" font-family=\"Times,serif\" font-size=\"14.00\">class = versicolor</text>\n",
       "</g>\n",
       "<!-- 4&#45;&gt;8 -->\n",
       "<g id=\"edge8\" class=\"edge\"><title>4&#45;&gt;8</title>\n",
       "<path fill=\"none\" stroke=\"black\" d=\"M272.044,-213.769C272.044,-203.313 272.044,-191.935 272.044,-181.315\"/>\n",
       "<polygon fill=\"black\" stroke=\"black\" points=\"275.545,-181.01 272.044,-171.01 268.545,-181.01 275.545,-181.01\"/>\n",
       "</g>\n",
       "<!-- 6 -->\n",
       "<g id=\"node7\" class=\"node\"><title>6</title>\n",
       "<polygon fill=\"#39e581\" stroke=\"black\" points=\"114.133,-64 -0.0444682,-64 -0.0444682,-0 114.133,-0 114.133,-64\"/>\n",
       "<text text-anchor=\"middle\" x=\"57.0444\" y=\"-48.8\" font-family=\"Times,serif\" font-size=\"14.00\">gini = 0.0</text>\n",
       "<text text-anchor=\"middle\" x=\"57.0444\" y=\"-34.8\" font-family=\"Times,serif\" font-size=\"14.00\">samples = 1</text>\n",
       "<text text-anchor=\"middle\" x=\"57.0444\" y=\"-20.8\" font-family=\"Times,serif\" font-size=\"14.00\">value = [0, 1, 0]</text>\n",
       "<text text-anchor=\"middle\" x=\"57.0444\" y=\"-6.8\" font-family=\"Times,serif\" font-size=\"14.00\">class = versicolor</text>\n",
       "</g>\n",
       "<!-- 5&#45;&gt;6 -->\n",
       "<g id=\"edge6\" class=\"edge\"><title>5&#45;&gt;6</title>\n",
       "<path fill=\"none\" stroke=\"black\" d=\"M97.7579,-99.7956C92.3968,-91 86.6825,-81.625 81.2821,-72.765\"/>\n",
       "<polygon fill=\"black\" stroke=\"black\" points=\"84.2044,-70.8344 76.0111,-64.1172 78.2272,-74.4777 84.2044,-70.8344\"/>\n",
       "</g>\n",
       "<!-- 7 -->\n",
       "<g id=\"node8\" class=\"node\"><title>7</title>\n",
       "<polygon fill=\"#8139e5\" stroke=\"black\" points=\"239.667,-64 132.422,-64 132.422,-0 239.667,-0 239.667,-64\"/>\n",
       "<text text-anchor=\"middle\" x=\"186.044\" y=\"-48.8\" font-family=\"Times,serif\" font-size=\"14.00\">gini = 0.0</text>\n",
       "<text text-anchor=\"middle\" x=\"186.044\" y=\"-34.8\" font-family=\"Times,serif\" font-size=\"14.00\">samples = 1</text>\n",
       "<text text-anchor=\"middle\" x=\"186.044\" y=\"-20.8\" font-family=\"Times,serif\" font-size=\"14.00\">value = [0, 0, 1]</text>\n",
       "<text text-anchor=\"middle\" x=\"186.044\" y=\"-6.8\" font-family=\"Times,serif\" font-size=\"14.00\">class = virginica</text>\n",
       "</g>\n",
       "<!-- 5&#45;&gt;7 -->\n",
       "<g id=\"edge7\" class=\"edge\"><title>5&#45;&gt;7</title>\n",
       "<path fill=\"none\" stroke=\"black\" d=\"M144.695,-99.7956C150.14,-91 155.943,-81.625 161.428,-72.765\"/>\n",
       "<polygon fill=\"black\" stroke=\"black\" points=\"164.494,-74.4621 166.781,-64.1172 158.542,-70.7776 164.494,-74.4621\"/>\n",
       "</g>\n",
       "<!-- 10 -->\n",
       "<g id=\"node11\" class=\"node\"><title>10</title>\n",
       "<polygon fill=\"#39e581\" stroke=\"black\" points=\"461.133,-171 346.956,-171 346.956,-107 461.133,-107 461.133,-171\"/>\n",
       "<text text-anchor=\"middle\" x=\"404.044\" y=\"-155.8\" font-family=\"Times,serif\" font-size=\"14.00\">gini = 0.0</text>\n",
       "<text text-anchor=\"middle\" x=\"404.044\" y=\"-141.8\" font-family=\"Times,serif\" font-size=\"14.00\">samples = 1</text>\n",
       "<text text-anchor=\"middle\" x=\"404.044\" y=\"-127.8\" font-family=\"Times,serif\" font-size=\"14.00\">value = [0, 1, 0]</text>\n",
       "<text text-anchor=\"middle\" x=\"404.044\" y=\"-113.8\" font-family=\"Times,serif\" font-size=\"14.00\">class = versicolor</text>\n",
       "</g>\n",
       "<!-- 9&#45;&gt;10 -->\n",
       "<g id=\"edge10\" class=\"edge\"><title>9&#45;&gt;10</title>\n",
       "<path fill=\"none\" stroke=\"black\" d=\"M444.881,-213.769C438.852,-202.877 432.268,-190.985 426.183,-179.992\"/>\n",
       "<polygon fill=\"black\" stroke=\"black\" points=\"429.116,-178.064 421.211,-171.01 422.992,-181.454 429.116,-178.064\"/>\n",
       "</g>\n",
       "<!-- 11 -->\n",
       "<g id=\"node12\" class=\"node\"><title>11</title>\n",
       "<polygon fill=\"#8139e5\" stroke=\"black\" points=\"586.667,-171 479.422,-171 479.422,-107 586.667,-107 586.667,-171\"/>\n",
       "<text text-anchor=\"middle\" x=\"533.044\" y=\"-155.8\" font-family=\"Times,serif\" font-size=\"14.00\">gini = 0.0</text>\n",
       "<text text-anchor=\"middle\" x=\"533.044\" y=\"-141.8\" font-family=\"Times,serif\" font-size=\"14.00\">samples = 3</text>\n",
       "<text text-anchor=\"middle\" x=\"533.044\" y=\"-127.8\" font-family=\"Times,serif\" font-size=\"14.00\">value = [0, 0, 3]</text>\n",
       "<text text-anchor=\"middle\" x=\"533.044\" y=\"-113.8\" font-family=\"Times,serif\" font-size=\"14.00\">class = virginica</text>\n",
       "</g>\n",
       "<!-- 9&#45;&gt;11 -->\n",
       "<g id=\"edge11\" class=\"edge\"><title>9&#45;&gt;11</title>\n",
       "<path fill=\"none\" stroke=\"black\" d=\"M488.915,-213.769C495.495,-202.769 502.687,-190.747 509.318,-179.662\"/>\n",
       "<polygon fill=\"black\" stroke=\"black\" points=\"512.364,-181.389 514.494,-171.01 506.356,-177.795 512.364,-181.389\"/>\n",
       "</g>\n",
       "<!-- 13 -->\n",
       "<g id=\"node14\" class=\"node\"><title>13</title>\n",
       "<polygon fill=\"#8139e5\" fill-opacity=\"0.498039\" stroke=\"black\" points=\"734.419,-292 583.67,-292 583.67,-214 734.419,-214 734.419,-292\"/>\n",
       "<text text-anchor=\"middle\" x=\"659.044\" y=\"-276.8\" font-family=\"Times,serif\" font-size=\"14.00\">sepal width (cm) &lt;= 3.1</text>\n",
       "<text text-anchor=\"middle\" x=\"659.044\" y=\"-262.8\" font-family=\"Times,serif\" font-size=\"14.00\">gini = 0.444</text>\n",
       "<text text-anchor=\"middle\" x=\"659.044\" y=\"-248.8\" font-family=\"Times,serif\" font-size=\"14.00\">samples = 3</text>\n",
       "<text text-anchor=\"middle\" x=\"659.044\" y=\"-234.8\" font-family=\"Times,serif\" font-size=\"14.00\">value = [0, 1, 2]</text>\n",
       "<text text-anchor=\"middle\" x=\"659.044\" y=\"-220.8\" font-family=\"Times,serif\" font-size=\"14.00\">class = virginica</text>\n",
       "</g>\n",
       "<!-- 12&#45;&gt;13 -->\n",
       "<g id=\"edge13\" class=\"edge\"><title>12&#45;&gt;13</title>\n",
       "<path fill=\"none\" stroke=\"black\" d=\"M659.044,-327.769C659.044,-319.57 659.044,-310.803 659.044,-302.28\"/>\n",
       "<polygon fill=\"black\" stroke=\"black\" points=\"662.545,-302.058 659.044,-292.058 655.545,-302.059 662.545,-302.058\"/>\n",
       "</g>\n",
       "<!-- 16 -->\n",
       "<g id=\"node17\" class=\"node\"><title>16</title>\n",
       "<polygon fill=\"#8139e5\" stroke=\"black\" points=\"864.082,-285 752.006,-285 752.006,-221 864.082,-221 864.082,-285\"/>\n",
       "<text text-anchor=\"middle\" x=\"808.044\" y=\"-269.8\" font-family=\"Times,serif\" font-size=\"14.00\">gini = 0.0</text>\n",
       "<text text-anchor=\"middle\" x=\"808.044\" y=\"-255.8\" font-family=\"Times,serif\" font-size=\"14.00\">samples = 39</text>\n",
       "<text text-anchor=\"middle\" x=\"808.044\" y=\"-241.8\" font-family=\"Times,serif\" font-size=\"14.00\">value = [0, 0, 39]</text>\n",
       "<text text-anchor=\"middle\" x=\"808.044\" y=\"-227.8\" font-family=\"Times,serif\" font-size=\"14.00\">class = virginica</text>\n",
       "</g>\n",
       "<!-- 12&#45;&gt;16 -->\n",
       "<g id=\"edge16\" class=\"edge\"><title>12&#45;&gt;16</title>\n",
       "<path fill=\"none\" stroke=\"black\" d=\"M709.905,-327.769C725.699,-315.897 743.074,-302.837 758.759,-291.047\"/>\n",
       "<polygon fill=\"black\" stroke=\"black\" points=\"760.899,-293.816 766.79,-285.01 756.693,-288.221 760.899,-293.816\"/>\n",
       "</g>\n",
       "<!-- 14 -->\n",
       "<g id=\"node15\" class=\"node\"><title>14</title>\n",
       "<polygon fill=\"#8139e5\" stroke=\"black\" points=\"712.667,-171 605.422,-171 605.422,-107 712.667,-107 712.667,-171\"/>\n",
       "<text text-anchor=\"middle\" x=\"659.044\" y=\"-155.8\" font-family=\"Times,serif\" font-size=\"14.00\">gini = 0.0</text>\n",
       "<text text-anchor=\"middle\" x=\"659.044\" y=\"-141.8\" font-family=\"Times,serif\" font-size=\"14.00\">samples = 2</text>\n",
       "<text text-anchor=\"middle\" x=\"659.044\" y=\"-127.8\" font-family=\"Times,serif\" font-size=\"14.00\">value = [0, 0, 2]</text>\n",
       "<text text-anchor=\"middle\" x=\"659.044\" y=\"-113.8\" font-family=\"Times,serif\" font-size=\"14.00\">class = virginica</text>\n",
       "</g>\n",
       "<!-- 13&#45;&gt;14 -->\n",
       "<g id=\"edge14\" class=\"edge\"><title>13&#45;&gt;14</title>\n",
       "<path fill=\"none\" stroke=\"black\" d=\"M659.044,-213.769C659.044,-203.313 659.044,-191.935 659.044,-181.315\"/>\n",
       "<polygon fill=\"black\" stroke=\"black\" points=\"662.545,-181.01 659.044,-171.01 655.545,-181.01 662.545,-181.01\"/>\n",
       "</g>\n",
       "<!-- 15 -->\n",
       "<g id=\"node16\" class=\"node\"><title>15</title>\n",
       "<polygon fill=\"#39e581\" stroke=\"black\" points=\"845.133,-171 730.956,-171 730.956,-107 845.133,-107 845.133,-171\"/>\n",
       "<text text-anchor=\"middle\" x=\"788.044\" y=\"-155.8\" font-family=\"Times,serif\" font-size=\"14.00\">gini = 0.0</text>\n",
       "<text text-anchor=\"middle\" x=\"788.044\" y=\"-141.8\" font-family=\"Times,serif\" font-size=\"14.00\">samples = 1</text>\n",
       "<text text-anchor=\"middle\" x=\"788.044\" y=\"-127.8\" font-family=\"Times,serif\" font-size=\"14.00\">value = [0, 1, 0]</text>\n",
       "<text text-anchor=\"middle\" x=\"788.044\" y=\"-113.8\" font-family=\"Times,serif\" font-size=\"14.00\">class = versicolor</text>\n",
       "</g>\n",
       "<!-- 13&#45;&gt;15 -->\n",
       "<g id=\"edge15\" class=\"edge\"><title>13&#45;&gt;15</title>\n",
       "<path fill=\"none\" stroke=\"black\" d=\"M703.078,-213.769C716.501,-202.115 731.244,-189.315 744.626,-177.697\"/>\n",
       "<polygon fill=\"black\" stroke=\"black\" points=\"747.071,-180.209 752.328,-171.01 742.482,-174.923 747.071,-180.209\"/>\n",
       "</g>\n",
       "</g>\n",
       "</svg>\n"
      ],
      "text/plain": [
       "<graphviz.files.Source at 0x1a2169ee10>"
      ]
     },
     "execution_count": 72,
     "metadata": {},
     "output_type": "execute_result"
    }
   ],
   "source": [
    "graph1 = graphviz.Source(g1)\n",
    "graph1"
   ]
  },
  {
   "cell_type": "markdown",
   "metadata": {},
   "source": [
    "https://blog.csdn.net/qq_41387939/article/details/103285336"
   ]
  },
  {
   "cell_type": "markdown",
   "metadata": {},
   "source": [
    "## Prediction"
   ]
  },
  {
   "cell_type": "code",
   "execution_count": 94,
   "metadata": {},
   "outputs": [],
   "source": [
    "from sklearn.metrics import accuracy_score"
   ]
  },
  {
   "cell_type": "code",
   "execution_count": 99,
   "metadata": {},
   "outputs": [],
   "source": [
    "predict = clf.predict(x_test) # the parameter is x_test (training data without labels)"
   ]
  },
  {
   "cell_type": "code",
   "execution_count": 100,
   "metadata": {},
   "outputs": [
    {
     "name": "stdout",
     "output_type": "stream",
     "text": [
      "Predict: [1 1 1 0 1 1 2 2 0 2 2 0 1 0 1]\n",
      "Label: [1 1 1 0 1 1 2 2 0 2 2 0 1 0 2]\n",
      "Accuracy:  93.33333333333333 %\n"
     ]
    }
   ],
   "source": [
    "print(\"Predict:\", predict)\n",
    "print(\"Label:\", y_test)\n",
    "print(\"Accuracy: \", accuracy_score(predict, y_test) * 100, \"%\")"
   ]
  },
  {
   "cell_type": "markdown",
   "metadata": {},
   "source": [
    "## Prevent overfitting: pre-pruning"
   ]
  },
  {
   "cell_type": "code",
   "execution_count": 128,
   "metadata": {},
   "outputs": [
    {
     "data": {
      "text/plain": [
       "DecisionTreeClassifier(class_weight=None, criterion='gini', max_depth=3,\n",
       "            max_features=None, max_leaf_nodes=None,\n",
       "            min_impurity_decrease=0.0, min_impurity_split=None,\n",
       "            min_samples_leaf=1, min_samples_split=2,\n",
       "            min_weight_fraction_leaf=0.0, presort=False, random_state=None,\n",
       "            splitter='best')"
      ]
     },
     "execution_count": 128,
     "metadata": {},
     "output_type": "execute_result"
    }
   ],
   "source": [
    "clf2 = DecisionTreeClassifier(max_depth=3) # set the parameter: max_depth=3\n",
    "clf2.fit(x_train, y_train)"
   ]
  },
  {
   "cell_type": "code",
   "execution_count": 129,
   "metadata": {},
   "outputs": [],
   "source": [
    "g2 = export_graphviz(clf2, feature_names=iris[\"feature_names\"],\n",
    "                    class_names=iris[\"target_names\"], filled=True, out_file =None )"
   ]
  },
  {
   "cell_type": "code",
   "execution_count": 130,
   "metadata": {
    "scrolled": true
   },
   "outputs": [
    {
     "data": {
      "image/svg+xml": [
       "<?xml version=\"1.0\" encoding=\"UTF-8\" standalone=\"no\"?>\n",
       "<!DOCTYPE svg PUBLIC \"-//W3C//DTD SVG 1.1//EN\"\n",
       " \"http://www.w3.org/Graphics/SVG/1.1/DTD/svg11.dtd\">\n",
       "<!-- Generated by graphviz version 2.38.0 (20140413.2041)\n",
       " -->\n",
       "<!-- Title: Tree Pages: 1 -->\n",
       "<svg width=\"529pt\" height=\"414pt\"\n",
       " viewBox=\"0.00 0.00 529.31 414.00\" xmlns=\"http://www.w3.org/2000/svg\" xmlns:xlink=\"http://www.w3.org/1999/xlink\">\n",
       "<g id=\"graph0\" class=\"graph\" transform=\"scale(1 1) rotate(0) translate(4 410)\">\n",
       "<title>Tree</title>\n",
       "<polygon fill=\"white\" stroke=\"none\" points=\"-4,4 -4,-410 525.313,-410 525.313,4 -4,4\"/>\n",
       "<!-- 0 -->\n",
       "<g id=\"node1\" class=\"node\"><title>0</title>\n",
       "<polygon fill=\"#e58139\" fill-opacity=\"0.011765\" stroke=\"black\" points=\"259.36,-406 110.729,-406 110.729,-328 259.36,-328 259.36,-406\"/>\n",
       "<text text-anchor=\"middle\" x=\"185.044\" y=\"-390.8\" font-family=\"Times,serif\" font-size=\"14.00\">petal width (cm) &lt;= 0.8</text>\n",
       "<text text-anchor=\"middle\" x=\"185.044\" y=\"-376.8\" font-family=\"Times,serif\" font-size=\"14.00\">gini = 0.667</text>\n",
       "<text text-anchor=\"middle\" x=\"185.044\" y=\"-362.8\" font-family=\"Times,serif\" font-size=\"14.00\">samples = 135</text>\n",
       "<text text-anchor=\"middle\" x=\"185.044\" y=\"-348.8\" font-family=\"Times,serif\" font-size=\"14.00\">value = [46, 44, 45]</text>\n",
       "<text text-anchor=\"middle\" x=\"185.044\" y=\"-334.8\" font-family=\"Times,serif\" font-size=\"14.00\">class = setosa</text>\n",
       "</g>\n",
       "<!-- 1 -->\n",
       "<g id=\"node2\" class=\"node\"><title>1</title>\n",
       "<polygon fill=\"#e58139\" stroke=\"black\" points=\"165.082,-285 53.0064,-285 53.0064,-221 165.082,-221 165.082,-285\"/>\n",
       "<text text-anchor=\"middle\" x=\"109.044\" y=\"-269.8\" font-family=\"Times,serif\" font-size=\"14.00\">gini = 0.0</text>\n",
       "<text text-anchor=\"middle\" x=\"109.044\" y=\"-255.8\" font-family=\"Times,serif\" font-size=\"14.00\">samples = 46</text>\n",
       "<text text-anchor=\"middle\" x=\"109.044\" y=\"-241.8\" font-family=\"Times,serif\" font-size=\"14.00\">value = [46, 0, 0]</text>\n",
       "<text text-anchor=\"middle\" x=\"109.044\" y=\"-227.8\" font-family=\"Times,serif\" font-size=\"14.00\">class = setosa</text>\n",
       "</g>\n",
       "<!-- 0&#45;&gt;1 -->\n",
       "<g id=\"edge1\" class=\"edge\"><title>0&#45;&gt;1</title>\n",
       "<path fill=\"none\" stroke=\"black\" d=\"M159.102,-327.769C151.563,-316.66 143.318,-304.509 135.735,-293.333\"/>\n",
       "<polygon fill=\"black\" stroke=\"black\" points=\"138.598,-291.32 130.087,-285.01 132.806,-295.25 138.598,-291.32\"/>\n",
       "<text text-anchor=\"middle\" x=\"125.385\" y=\"-305.364\" font-family=\"Times,serif\" font-size=\"14.00\">True</text>\n",
       "</g>\n",
       "<!-- 2 -->\n",
       "<g id=\"node3\" class=\"node\"><title>2</title>\n",
       "<polygon fill=\"#8139e5\" fill-opacity=\"0.023529\" stroke=\"black\" points=\"338.86,-292 183.229,-292 183.229,-214 338.86,-214 338.86,-292\"/>\n",
       "<text text-anchor=\"middle\" x=\"261.044\" y=\"-276.8\" font-family=\"Times,serif\" font-size=\"14.00\">petal width (cm) &lt;= 1.75</text>\n",
       "<text text-anchor=\"middle\" x=\"261.044\" y=\"-262.8\" font-family=\"Times,serif\" font-size=\"14.00\">gini = 0.5</text>\n",
       "<text text-anchor=\"middle\" x=\"261.044\" y=\"-248.8\" font-family=\"Times,serif\" font-size=\"14.00\">samples = 89</text>\n",
       "<text text-anchor=\"middle\" x=\"261.044\" y=\"-234.8\" font-family=\"Times,serif\" font-size=\"14.00\">value = [0, 44, 45]</text>\n",
       "<text text-anchor=\"middle\" x=\"261.044\" y=\"-220.8\" font-family=\"Times,serif\" font-size=\"14.00\">class = virginica</text>\n",
       "</g>\n",
       "<!-- 0&#45;&gt;2 -->\n",
       "<g id=\"edge2\" class=\"edge\"><title>0&#45;&gt;2</title>\n",
       "<path fill=\"none\" stroke=\"black\" d=\"M210.987,-327.769C216.918,-319.029 223.286,-309.645 229.425,-300.597\"/>\n",
       "<polygon fill=\"black\" stroke=\"black\" points=\"232.5,-302.299 235.219,-292.058 226.708,-298.368 232.5,-302.299\"/>\n",
       "<text text-anchor=\"middle\" x=\"239.921\" y=\"-312.412\" font-family=\"Times,serif\" font-size=\"14.00\">False</text>\n",
       "</g>\n",
       "<!-- 3 -->\n",
       "<g id=\"node4\" class=\"node\"><title>3</title>\n",
       "<polygon fill=\"#39e581\" fill-opacity=\"0.905882\" stroke=\"black\" points=\"252.463,-178 93.6255,-178 93.6255,-100 252.463,-100 252.463,-178\"/>\n",
       "<text text-anchor=\"middle\" x=\"173.044\" y=\"-162.8\" font-family=\"Times,serif\" font-size=\"14.00\">petal length (cm) &lt;= 5.05</text>\n",
       "<text text-anchor=\"middle\" x=\"173.044\" y=\"-148.8\" font-family=\"Times,serif\" font-size=\"14.00\">gini = 0.156</text>\n",
       "<text text-anchor=\"middle\" x=\"173.044\" y=\"-134.8\" font-family=\"Times,serif\" font-size=\"14.00\">samples = 47</text>\n",
       "<text text-anchor=\"middle\" x=\"173.044\" y=\"-120.8\" font-family=\"Times,serif\" font-size=\"14.00\">value = [0, 43, 4]</text>\n",
       "<text text-anchor=\"middle\" x=\"173.044\" y=\"-106.8\" font-family=\"Times,serif\" font-size=\"14.00\">class = versicolor</text>\n",
       "</g>\n",
       "<!-- 2&#45;&gt;3 -->\n",
       "<g id=\"edge3\" class=\"edge\"><title>2&#45;&gt;3</title>\n",
       "<path fill=\"none\" stroke=\"black\" d=\"M231.006,-213.769C223.997,-204.849 216.461,-195.257 209.217,-186.038\"/>\n",
       "<polygon fill=\"black\" stroke=\"black\" points=\"211.878,-183.759 202.948,-178.058 206.374,-188.084 211.878,-183.759\"/>\n",
       "</g>\n",
       "<!-- 6 -->\n",
       "<g id=\"node7\" class=\"node\"><title>6</title>\n",
       "<polygon fill=\"#8139e5\" fill-opacity=\"0.976471\" stroke=\"black\" points=\"429.463,-178 270.625,-178 270.625,-100 429.463,-100 429.463,-178\"/>\n",
       "<text text-anchor=\"middle\" x=\"350.044\" y=\"-162.8\" font-family=\"Times,serif\" font-size=\"14.00\">petal length (cm) &lt;= 4.85</text>\n",
       "<text text-anchor=\"middle\" x=\"350.044\" y=\"-148.8\" font-family=\"Times,serif\" font-size=\"14.00\">gini = 0.046</text>\n",
       "<text text-anchor=\"middle\" x=\"350.044\" y=\"-134.8\" font-family=\"Times,serif\" font-size=\"14.00\">samples = 42</text>\n",
       "<text text-anchor=\"middle\" x=\"350.044\" y=\"-120.8\" font-family=\"Times,serif\" font-size=\"14.00\">value = [0, 1, 41]</text>\n",
       "<text text-anchor=\"middle\" x=\"350.044\" y=\"-106.8\" font-family=\"Times,serif\" font-size=\"14.00\">class = virginica</text>\n",
       "</g>\n",
       "<!-- 2&#45;&gt;6 -->\n",
       "<g id=\"edge6\" class=\"edge\"><title>2&#45;&gt;6</title>\n",
       "<path fill=\"none\" stroke=\"black\" d=\"M291.424,-213.769C298.513,-204.849 306.135,-195.257 313.461,-186.038\"/>\n",
       "<polygon fill=\"black\" stroke=\"black\" points=\"316.32,-188.065 319.802,-178.058 310.84,-183.71 316.32,-188.065\"/>\n",
       "</g>\n",
       "<!-- 4 -->\n",
       "<g id=\"node5\" class=\"node\"><title>4</title>\n",
       "<polygon fill=\"#39e581\" fill-opacity=\"0.976471\" stroke=\"black\" points=\"114.133,-64 -0.0444682,-64 -0.0444682,-0 114.133,-0 114.133,-64\"/>\n",
       "<text text-anchor=\"middle\" x=\"57.0444\" y=\"-48.8\" font-family=\"Times,serif\" font-size=\"14.00\">gini = 0.045</text>\n",
       "<text text-anchor=\"middle\" x=\"57.0444\" y=\"-34.8\" font-family=\"Times,serif\" font-size=\"14.00\">samples = 43</text>\n",
       "<text text-anchor=\"middle\" x=\"57.0444\" y=\"-20.8\" font-family=\"Times,serif\" font-size=\"14.00\">value = [0, 42, 1]</text>\n",
       "<text text-anchor=\"middle\" x=\"57.0444\" y=\"-6.8\" font-family=\"Times,serif\" font-size=\"14.00\">class = versicolor</text>\n",
       "</g>\n",
       "<!-- 3&#45;&gt;4 -->\n",
       "<g id=\"edge4\" class=\"edge\"><title>3&#45;&gt;4</title>\n",
       "<path fill=\"none\" stroke=\"black\" d=\"M130.838,-99.7956C120.412,-90.3587 109.25,-80.2547 98.8437,-70.8355\"/>\n",
       "<polygon fill=\"black\" stroke=\"black\" points=\"101.184,-68.2332 91.4215,-64.1172 96.4866,-73.4229 101.184,-68.2332\"/>\n",
       "</g>\n",
       "<!-- 5 -->\n",
       "<g id=\"node6\" class=\"node\"><title>5</title>\n",
       "<polygon fill=\"#8139e5\" fill-opacity=\"0.666667\" stroke=\"black\" points=\"239.667,-64 132.422,-64 132.422,-0 239.667,-0 239.667,-64\"/>\n",
       "<text text-anchor=\"middle\" x=\"186.044\" y=\"-48.8\" font-family=\"Times,serif\" font-size=\"14.00\">gini = 0.375</text>\n",
       "<text text-anchor=\"middle\" x=\"186.044\" y=\"-34.8\" font-family=\"Times,serif\" font-size=\"14.00\">samples = 4</text>\n",
       "<text text-anchor=\"middle\" x=\"186.044\" y=\"-20.8\" font-family=\"Times,serif\" font-size=\"14.00\">value = [0, 1, 3]</text>\n",
       "<text text-anchor=\"middle\" x=\"186.044\" y=\"-6.8\" font-family=\"Times,serif\" font-size=\"14.00\">class = virginica</text>\n",
       "</g>\n",
       "<!-- 3&#45;&gt;5 -->\n",
       "<g id=\"edge5\" class=\"edge\"><title>3&#45;&gt;5</title>\n",
       "<path fill=\"none\" stroke=\"black\" d=\"M177.775,-99.7956C178.807,-91.4581 179.903,-82.6 180.949,-74.1534\"/>\n",
       "<polygon fill=\"black\" stroke=\"black\" points=\"184.437,-74.4715 182.192,-64.1172 177.49,-73.6113 184.437,-74.4715\"/>\n",
       "</g>\n",
       "<!-- 7 -->\n",
       "<g id=\"node8\" class=\"node\"><title>7</title>\n",
       "<polygon fill=\"#8139e5\" fill-opacity=\"0.498039\" stroke=\"black\" points=\"390.667,-64 283.422,-64 283.422,-0 390.667,-0 390.667,-64\"/>\n",
       "<text text-anchor=\"middle\" x=\"337.044\" y=\"-48.8\" font-family=\"Times,serif\" font-size=\"14.00\">gini = 0.444</text>\n",
       "<text text-anchor=\"middle\" x=\"337.044\" y=\"-34.8\" font-family=\"Times,serif\" font-size=\"14.00\">samples = 3</text>\n",
       "<text text-anchor=\"middle\" x=\"337.044\" y=\"-20.8\" font-family=\"Times,serif\" font-size=\"14.00\">value = [0, 1, 2]</text>\n",
       "<text text-anchor=\"middle\" x=\"337.044\" y=\"-6.8\" font-family=\"Times,serif\" font-size=\"14.00\">class = virginica</text>\n",
       "</g>\n",
       "<!-- 6&#45;&gt;7 -->\n",
       "<g id=\"edge7\" class=\"edge\"><title>6&#45;&gt;7</title>\n",
       "<path fill=\"none\" stroke=\"black\" d=\"M345.314,-99.7956C344.282,-91.4581 343.185,-82.6 342.14,-74.1534\"/>\n",
       "<polygon fill=\"black\" stroke=\"black\" points=\"345.599,-73.6113 340.897,-64.1172 338.652,-74.4715 345.599,-73.6113\"/>\n",
       "</g>\n",
       "<!-- 8 -->\n",
       "<g id=\"node9\" class=\"node\"><title>8</title>\n",
       "<polygon fill=\"#8139e5\" stroke=\"black\" points=\"521.082,-64 409.006,-64 409.006,-0 521.082,-0 521.082,-64\"/>\n",
       "<text text-anchor=\"middle\" x=\"465.044\" y=\"-48.8\" font-family=\"Times,serif\" font-size=\"14.00\">gini = 0.0</text>\n",
       "<text text-anchor=\"middle\" x=\"465.044\" y=\"-34.8\" font-family=\"Times,serif\" font-size=\"14.00\">samples = 39</text>\n",
       "<text text-anchor=\"middle\" x=\"465.044\" y=\"-20.8\" font-family=\"Times,serif\" font-size=\"14.00\">value = [0, 0, 39]</text>\n",
       "<text text-anchor=\"middle\" x=\"465.044\" y=\"-6.8\" font-family=\"Times,serif\" font-size=\"14.00\">class = virginica</text>\n",
       "</g>\n",
       "<!-- 6&#45;&gt;8 -->\n",
       "<g id=\"edge8\" class=\"edge\"><title>6&#45;&gt;8</title>\n",
       "<path fill=\"none\" stroke=\"black\" d=\"M391.887,-99.7956C402.123,-90.4503 413.074,-80.4509 423.305,-71.11\"/>\n",
       "<polygon fill=\"black\" stroke=\"black\" points=\"425.939,-73.4446 430.964,-64.1172 421.219,-68.2752 425.939,-73.4446\"/>\n",
       "</g>\n",
       "</g>\n",
       "</svg>\n"
      ],
      "text/plain": [
       "<graphviz.files.Source at 0x1a2169ef98>"
      ]
     },
     "execution_count": 130,
     "metadata": {},
     "output_type": "execute_result"
    }
   ],
   "source": [
    "graph2 = graphviz.Source(g2)\n",
    "graph2"
   ]
  },
  {
   "cell_type": "code",
   "execution_count": 131,
   "metadata": {},
   "outputs": [],
   "source": [
    "predict = clf2.predict(x_test) # the parameter is x_test (training data without labels)"
   ]
  },
  {
   "cell_type": "code",
   "execution_count": 132,
   "metadata": {
    "scrolled": false
   },
   "outputs": [
    {
     "name": "stdout",
     "output_type": "stream",
     "text": [
      "Predict: [1 1 1 0 1 1 2 2 0 2 2 0 1 0 1]\n",
      "Label: [1 1 1 0 1 1 2 2 0 2 2 0 1 0 2]\n",
      "Accuracy:  93.33333333333333 %\n"
     ]
    }
   ],
   "source": [
    "print(\"Predict:\", predict)\n",
    "print(\"Label:\", y_test)\n",
    "print(\"Accuracy: \", accuracy_score(predict, y_test) * 100, \"%\")"
   ]
  },
  {
   "cell_type": "markdown",
   "metadata": {},
   "source": [
    "### Confusion Matrix"
   ]
  },
  {
   "cell_type": "code",
   "execution_count": 133,
   "metadata": {},
   "outputs": [],
   "source": [
    "from sklearn.metrics import confusion_matrix "
   ]
  },
  {
   "cell_type": "code",
   "execution_count": 134,
   "metadata": {
    "scrolled": false
   },
   "outputs": [
    {
     "data": {
      "text/plain": [
       "array([[4, 0, 0],\n",
       "       [0, 6, 0],\n",
       "       [0, 1, 4]])"
      ]
     },
     "execution_count": 134,
     "metadata": {},
     "output_type": "execute_result"
    }
   ],
   "source": [
    "cm = confusion_matrix(y_test, predict) \n",
    "cm"
   ]
  },
  {
   "cell_type": "code",
   "execution_count": 139,
   "metadata": {},
   "outputs": [
    {
     "data": {
      "text/html": [
       "<div>\n",
       "<style scoped>\n",
       "    .dataframe tbody tr th:only-of-type {\n",
       "        vertical-align: middle;\n",
       "    }\n",
       "\n",
       "    .dataframe tbody tr th {\n",
       "        vertical-align: top;\n",
       "    }\n",
       "\n",
       "    .dataframe thead th {\n",
       "        text-align: right;\n",
       "    }\n",
       "</style>\n",
       "<table border=\"1\" class=\"dataframe\">\n",
       "  <thead>\n",
       "    <tr style=\"text-align: right;\">\n",
       "      <th></th>\n",
       "      <th>0</th>\n",
       "      <th>1</th>\n",
       "      <th>2</th>\n",
       "    </tr>\n",
       "  </thead>\n",
       "  <tbody>\n",
       "    <tr>\n",
       "      <th>0</th>\n",
       "      <td>4</td>\n",
       "      <td>0</td>\n",
       "      <td>0</td>\n",
       "    </tr>\n",
       "    <tr>\n",
       "      <th>1</th>\n",
       "      <td>0</td>\n",
       "      <td>6</td>\n",
       "      <td>0</td>\n",
       "    </tr>\n",
       "    <tr>\n",
       "      <th>2</th>\n",
       "      <td>0</td>\n",
       "      <td>1</td>\n",
       "      <td>4</td>\n",
       "    </tr>\n",
       "  </tbody>\n",
       "</table>\n",
       "</div>"
      ],
      "text/plain": [
       "   0  1  2\n",
       "0  4  0  0\n",
       "1  0  6  0\n",
       "2  0  1  4"
      ]
     },
     "execution_count": 139,
     "metadata": {},
     "output_type": "execute_result"
    }
   ],
   "source": [
    "pd.DataFrame(cm)"
   ]
  },
  {
   "cell_type": "markdown",
   "metadata": {},
   "source": [
    "### Measure the importance of every feature"
   ]
  },
  {
   "cell_type": "code",
   "execution_count": 138,
   "metadata": {},
   "outputs": [
    {
     "name": "stdout",
     "output_type": "stream",
     "text": [
      "['sepal length (cm)', 'sepal width (cm)', 'petal length (cm)', 'petal width (cm)']\n"
     ]
    },
    {
     "data": {
      "text/plain": [
       "array([0.        , 0.        , 0.05263843, 0.94736157])"
      ]
     },
     "execution_count": 138,
     "metadata": {},
     "output_type": "execute_result"
    }
   ],
   "source": [
    "print(iris[\"feature_names\"])\n",
    "clf2.feature_importances_"
   ]
  },
  {
   "cell_type": "markdown",
   "metadata": {},
   "source": [
    "### export the decision tree picture to pdf file"
   ]
  },
  {
   "cell_type": "code",
   "execution_count": 141,
   "metadata": {},
   "outputs": [],
   "source": [
    "# result.render(\"iris\") # export the picture to pdf "
   ]
  },
  {
   "cell_type": "code",
   "execution_count": 140,
   "metadata": {},
   "outputs": [
    {
     "name": "stdout",
     "output_type": "stream",
     "text": [
      "iris.ipynb  iris.pdf    iris.png\r\n"
     ]
    }
   ],
   "source": [
    "ls"
   ]
  },
  {
   "cell_type": "code",
   "execution_count": null,
   "metadata": {},
   "outputs": [],
   "source": []
  },
  {
   "cell_type": "code",
   "execution_count": null,
   "metadata": {},
   "outputs": [],
   "source": []
  },
  {
   "cell_type": "code",
   "execution_count": null,
   "metadata": {},
   "outputs": [],
   "source": []
  },
  {
   "cell_type": "code",
   "execution_count": null,
   "metadata": {},
   "outputs": [],
   "source": []
  }
 ],
 "metadata": {
  "kernelspec": {
   "display_name": "Python 3",
   "language": "python",
   "name": "python3"
  },
  "language_info": {
   "codemirror_mode": {
    "name": "ipython",
    "version": 3
   },
   "file_extension": ".py",
   "mimetype": "text/x-python",
   "name": "python",
   "nbconvert_exporter": "python",
   "pygments_lexer": "ipython3",
   "version": "3.6.4"
  }
 },
 "nbformat": 4,
 "nbformat_minor": 2
}
